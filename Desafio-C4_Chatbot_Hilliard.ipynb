{
  "cells": [
    {
      "cell_type": "markdown",
      "metadata": {
        "id": "view-in-github",
        "colab_type": "text"
      },
      "source": [
        "<a href=\"https://colab.research.google.com/github/nh0875/Desafios-Procesamiento-del-Habla-974/blob/main/Desafio_Chatbot.ipynb\" target=\"_parent\"><img src=\"https://colab.research.google.com/assets/colab-badge.svg\" alt=\"Open In Colab\"/></a>"
      ]
    },
    {
      "cell_type": "markdown",
      "metadata": {
        "id": "9FdzQV__PTcB"
      },
      "source": [
        "# Tony \"El chatbot coach\" (Chatbot con TFIDF/Similitud del coseno)\n",
        "\n",
        "Voy a utilizar un chatbot con un motor de busqueda por similitud, ya que mi idea es que el chatbot sirva para responder preguntas comunes sobre que acciones tomar en un partido de basquet orientado a personas que no saben jugarlo o que estan comenzando a hacerlo, que hacer en situaciones especificas como tambien situaciones generales de un partido, voy a ayudarme de Gemini para poder abarcar a la mayoria de posibles preguntas que podrian llegarle al bot, como tambien las respuestas que deberia devolver mi bot, se va a llamar **\"Tony\"**"
      ]
    },
    {
      "cell_type": "code",
      "execution_count": null,
      "metadata": {
        "id": "CReIz0ISj75s"
      },
      "outputs": [],
      "source": [
        "from sklearn.feature_extraction.text import TfidfVectorizer\n",
        "from sklearn.metrics.pairwise import cosine_similarity\n",
        "\n",
        "preguntas = [\n",
        "    \"¿Cuál es la diferencia entre una falta personal y una falta técnica?\",\n",
        "    \"¿Qué es una violación de los tres segundos y cómo se aplica en la zona restringida?\",\n",
        "    \"¿Cuál es la diferencia entre un bloqueo y una carga?\",\n",
        "    \"¿Qué es una cortina (o pantalla) y cómo se utiliza en el juego ofensivo?\",\n",
        "    \"¿Qué es un paso y cómo se sanciona?\",\n",
        "    \"¿Qué es un doble dribling y cómo se evita?\",\n",
        "    \"¿Cuál es la diferencia entre un tiro libre y un tiro/saque de línea de fondo?\",\n",
        "    \"¿Qué es un cambio de defensa y cuáles son los tipos más comunes?\",\n",
        "    \"¿Qué es una violación de 24 segundos y cómo se aplica en el juego?\",\n",
        "    \"¿Cuál es la importancia de la rotación de balón en el juego ofensivo?\",\n",
        "    \"Si mi equipo está perdiendo por muchos puntos al final del partido, ¿qué debería hacer?\",\n",
        "    \"Si tengo la pelota y estoy siendo marcado por un defensor muy alto, ¿qué puedo hacer?\",\n",
        "    \"Si un compañero mío tira de tres puntos y falla, ¿qué debería hacer?\",\n",
        "    \"Si estoy defendiendo a un jugador mucho más rápido que yo, ¿qué estrategia puedo usar?\",\n",
        "    \"Si me encuentro solo debajo del aro, ¿qué tipo de tiro debo intentar?\",\n",
        "    \"¿Cómo puedo mejorar mi tiro?\",\n",
        "    \"¿Qué puedo hacer para mejorar mi manejo de balón?\",\n",
        "    \"¿Cómo puedo mejorar mi defensa?\",\n",
        "    \"¿Qué es un pick-and-roll y cómo puedo ejecutarlo?\",\n",
        "    \"¿Qué es una fast break y cómo puedo participar en ella?\",\n",
        "    \"¿Cómo puedo mejorar mi juego en equipo?\",\n",
        "    \"¿Qué es una zona de presión y cómo puedo jugar contra ella?\",\n",
        "    \"¿Cómo puedo mantenerme motivado para seguir practicando básquetbol?\"\n",
        "]\n",
        "\n",
        "respuestas = [\n",
        "    \"Una falta personal se comete contra un jugador y suele ser un contacto físico. Una falta técnica se sanciona por acciones antideportivas o protestas hacia los árbitros.\",\n",
        "    \"Un jugador ofensivo no puede permanecer más de tres segundos dentro de la zona restringida del equipo contrario sin botar el balón o intentar un tiro.\",\n",
        "    \"Un bloqueo es una acción legal en la que un defensor impide el avance de un atacante sin cometer una falta. Una carga ocurre cuando el defensor se mueve hacia el atacante, impidiendo su progreso de manera ilegal.\",\n",
        "    \"Una cortina es una acción en la que un jugador se posiciona cerca de un defensor para obstruir su camino y permitir que un compañero de equipo reciba un pase sin marca.\",\n",
        "    \"Un paso es una violación que ocurre cuando un jugador da más de un paso con el balón en las manos sin botarlo.\",\n",
        "    \"Un doble dribling ocurre cuando un jugador detiene el drible y luego lo vuelve a iniciar con la misma mano. Para evitarlo, es importante mantener el balón en constante movimiento o pasarlo a un compañero.\",\n",
        "    \"Un tiro libre se otorga como sanción por una falta y se lanza desde la línea de tiros libres. Un tiro/saque de línea de fondo se realiza cuando la pelota sale fuera de límites por la línea de fondo y el equipo contrario tiene la posesión.\",\n",
        "    \"Un cambio de defensa es una modificación en la estrategia defensiva de un equipo. Los tipos más comunes son la defensa hombre a hombre y la defensa zonal.\",\n",
        "    \"Un equipo tiene 24 segundos para realizar un tiro a canasta una vez que tiene la posesión del balón. Si el tiempo se agota sin que se realice un tiro, se produce una violación y el balón pasa al equipo contrario.\",\n",
        "    \"La rotación de balón es esencial para mantener a la defensa desorganizada, crear oportunidades de tiro abiertas y evitar que un solo jugador se cargue con la responsabilidad de anotar.\",\n",
        "    \"En esta situación, es importante mantener la calma y seguir jugando como equipo. Puedes intentar forzar robos de balón, buscar tiros de tres puntos para acortar la distancia y evitar cometer faltas innecesarias.\",\n",
        "    \"Puedes intentar un tiro, pasar la pelota a un compañero libre, o utilizar un movimiento falso para crear espacio y encestar.\",\n",
        "    \"Deberías estar listo para el rebote, ya que es probable que la pelota rebote hacia el área. Si la obtienes, puedes intentar un nuevo tiro o pasarla a un compañero mejor posicionado.\",\n",
        "    \"Mantén una distancia adecuada, utiliza tus brazos para evitar que drible fácilmente y trata de anticipar sus movimientos.\",\n",
        "    \"Si estás solo bajo el aro, lo ideal es intentar un tiro fácil, como una bandeja o un gancho.\",\n",
        "    \"Para mejorar tu tiro, practica regularmente, enfócate en la técnica correcta y trabaja en tu fuerza superior del cuerpo.\",\n",
        "    \"Practica driblar con ambas manos, a diferentes velocidades y en espacios reducidos. También puedes realizar ejercicios de coordinación con la pelota.\",\n",
        "    \"Para mejorar tu defensa, trabaja en tu agilidad, fuerza y capacidad de anticipar los movimientos de tus oponentes.\",\n",
        "    \"Un pick-and-roll es una jugada en la que un jugador establece una pantalla (pick) para un compañero que está driblando, con el objetivo de crear una ventaja numérica.\",\n",
        "    \"Un fast break es un ataque rápido después de un rebote defensivo o una intercepción. Para participar en un fast break, debes correr rápidamente hacia la canasta contraria y buscar un pase para finalizar la jugada.\",\n",
        "    \"La comunicación, la confianza en tus compañeros y la disposición a compartir la pelota son fundamentales para un buen juego en equipo.\",\n",
        "    \"Una zona de presión es una defensa en la que los jugadores se distribuyen en zonas del campo en lugar de marcar a un jugador específico. Para jugar contra una zona, es importante mover el balón rápidamente y buscar tiros abiertos.\",\n",
        "    \"Establece metas realistas, encuentra compañeros de entrenamiento, únete a una liga y celebra tus logros.\"\n",
        "]\n",
        "\n",
        "vectorizer = TfidfVectorizer()\n",
        "tfidf_matrix = vectorizer.fit_transform(preguntas)\n",
        "\n",
        "def responder(consut_):\n",
        "    consulta_vec = vectorizer.transform([consut_])\n",
        "    similitudes = cosine_similarity(consulta_vec, tfidf_matrix).flatten()\n",
        "    indice_mejor_coincidencia = similitudes.argmax()\n",
        "    return respuestas[indice_mejor_coincidencia]\n"
      ]
    },
    {
      "cell_type": "code",
      "execution_count": null,
      "metadata": {
        "colab": {
          "base_uri": "https://localhost:8080/",
          "height": 91
        },
        "id": "foqaZ1FN583i",
        "outputId": "2a438cd3-77eb-4dcd-bec5-b6eb0ee53a24"
      },
      "outputs": [
        {
          "name": "stdout",
          "output_type": "stream",
          "text": [
            "Escribe tu consulta sobre el basquet: que es un tiro libre\n"
          ]
        },
        {
          "data": {
            "application/vnd.google.colaboratory.intrinsic+json": {
              "type": "string"
            },
            "text/plain": [
              "'Un tiro libre se otorga como sanción por una falta y se lanza desde la línea de tiros libres. Un tiro de línea de fondo se realiza cuando la pelota sale fuera de límites por la línea de fondo y el equipo contrario tiene la posesión.'"
            ]
          },
          "execution_count": 7,
          "metadata": {},
          "output_type": "execute_result"
        }
      ],
      "source": [
        "consulta = str(input(\"Escribe tu consulta sobre el basquet: \"))\n",
        "responder(consulta)"
      ]
    },
    {
      "cell_type": "markdown",
      "metadata": {
        "id": "J13v7T5wc9Lg"
      },
      "source": [
        "# Categorizador de Reseñas (Chatbot con Embeddings, **Modelo FastText** )\n",
        "\n",
        "Es un bot el cual clasifica reseñas de restaurantes basandose en palabras clave para determinar si la reseña es positiva o negativa\n",
        "\n"
      ]
    },
    {
      "cell_type": "code",
      "execution_count": null,
      "metadata": {
        "collapsed": true,
        "id": "rjdKtGiJgsbM"
      },
      "outputs": [],
      "source": [
        "!pip install fasttext\n",
        "!pip install spacy\n",
        "!python -m spacy download en_core_web_sm"
      ]
    },
    {
      "cell_type": "code",
      "execution_count": 25,
      "metadata": {
        "colab": {
          "base_uri": "https://localhost:8080/"
        },
        "id": "dKIuBuncldnA",
        "outputId": "9be696ad-8d97-48e6-b23a-2344d86af6b7"
      },
      "outputs": [
        {
          "output_type": "stream",
          "name": "stdout",
          "text": [
            "Opinión: \"I absolutely loved the atmosphere at The Gourmet Garden. It felt cozy and welcoming, perfect for a date night!\"\n",
            "Clasificación: Negative\n",
            "\n",
            "Opinión: \"The service was bad slow during my last visit. We waited over 30 minutes for our drinks to arrive, which was frustrating.\"\n",
            "Clasificación: Negative\n",
            "\n",
            "Opinión: \"The menu offers a good variety of dishes. I tried the seafood risotto, and it was rich and flavorful. Definitely coming back for more!\"\n",
            "Clasificación: Positive\n",
            "\n",
            "Opinión: \"I was disappointed with my meal. The chicken was dry, and I expected more seasoning for the price I paid.\"\n",
            "Clasificación: Negative\n",
            "\n",
            "Opinión: \"The staff was friendly and excellent, making sure we had everything we needed. The dessert selection was heavenly, especially the tiramisu!\"\n",
            "Clasificación: Positive\n",
            "\n",
            "Opinión: \"I went there based on the reviews, but my experience was not great. The pasta was undercooked, and the sauce tasted bland.\"\n",
            "Clasificación: Negative\n",
            "\n",
            "Opinión: \"What a delightful experience! The Gourmet Garden has a beautiful garden patio, and the grilled vegetables were good and delicious!\"\n",
            "Clasificación: Positive\n",
            "\n",
            "Opinión: \"I really wanted to like this place, but the noise level was too high, making it hard to enjoy my meal. The steak was overcooked, which was disappointing.\"\n",
            "Clasificación: Negative\n",
            "\n"
          ]
        }
      ],
      "source": [
        "import fasttext\n",
        "import spacy\n",
        "\n",
        "modelo_ft=fasttext.load_model('/content/cc.en.300.bin')\n",
        "nlp=spacy.load(\"en_core_web_sm\")\n",
        "def preprocesar_texto(texto):\n",
        "    doc = nlp(texto)\n",
        "    tokens = [token.lemma_ for token in doc if not token.is_stop and not token.is_punct]\n",
        "    return \" \".join(tokens)\n",
        "\n",
        "def cargar_opiniones(archivo):\n",
        "    with open(archivo, 'r', encoding='utf-8') as f:\n",
        "        opiniones=[line.strip() for line in f if line.strip()]\n",
        "    return opiniones\n",
        "\n",
        "def clasificar_opinion(opinion):\n",
        "    opinion_procesada = preprocesar_texto(opinion)\n",
        "    embedding_opinion = modelo_ft.get_sentence_vector(opinion_procesada)\n",
        "\n",
        "    if 'good' in opinion_procesada or 'excellent' in opinion_procesada:\n",
        "        return \"Positive\"\n",
        "    else:\n",
        "        return \"Negative\"\n",
        "\n",
        "def chatbot_opiniones(archivo_opiniones):\n",
        "    opiniones=cargar_opiniones(archivo_opiniones)\n",
        "    for opinion in opiniones:\n",
        "        clasificación=clasificar_opinion(opinion)\n",
        "        print(f\"Opinión: {opinion.strip()}\")\n",
        "        print(f\"Clasificación: {clasificación}\\n\")\n",
        "\n",
        "archivo='/content/Opiniones_restaurant.txt'\n",
        "chatbot_opiniones(archivo)"
      ]
    }
  ],
  "metadata": {
    "colab": {
      "provenance": [],
      "authorship_tag": "ABX9TyNrjxk0BjCk3KivTyCPlqMc",
      "include_colab_link": true
    },
    "kernelspec": {
      "display_name": "Python 3",
      "name": "python3"
    },
    "language_info": {
      "name": "python"
    }
  },
  "nbformat": 4,
  "nbformat_minor": 0
}
