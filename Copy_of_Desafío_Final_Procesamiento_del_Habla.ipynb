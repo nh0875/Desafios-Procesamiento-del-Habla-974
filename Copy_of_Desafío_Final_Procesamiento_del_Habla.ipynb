{
  "nbformat": 4,
  "nbformat_minor": 0,
  "metadata": {
    "colab": {
      "provenance": [],
      "authorship_tag": "ABX9TyN5w1KaUELdl+tK8vbU/7Z1",
      "include_colab_link": true
    },
    "kernelspec": {
      "name": "python3",
      "display_name": "Python 3"
    },
    "language_info": {
      "name": "python"
    }
  },
  "cells": [
    {
      "cell_type": "markdown",
      "metadata": {
        "id": "view-in-github",
        "colab_type": "text"
      },
      "source": [
        "<a href=\"https://colab.research.google.com/github/nh0875/Desafios-Procesamiento-del-Habla-974/blob/main/Copy_of_Desaf%C3%ADo_Final_Procesamiento_del_Habla.ipynb\" target=\"_parent\"><img src=\"https://colab.research.google.com/assets/colab-badge.svg\" alt=\"Open In Colab\"/></a>"
      ]
    },
    {
      "cell_type": "markdown",
      "source": [
        "# **Desafio Obligatorio Procesamiento del Habla**\n",
        "**Juan Ignacio Hilliard Bochaca 4162974**\n",
        "\n",
        "**Tema 5 (Análisis de Sentimiento del Texto)**\n",
        "\n",
        "Introduccion:"
      ],
      "metadata": {
        "id": "0QMEHjlj6VYh"
      }
    },
    {
      "cell_type": "code",
      "source": [
        "!pip install transformers PyPDF2 pdfplumber torch"
      ],
      "metadata": {
        "colab": {
          "base_uri": "https://localhost:8080/"
        },
        "id": "mocrri8vAnZq",
        "outputId": "15e098e6-8394-46d4-bbbc-2b3308337e88"
      },
      "execution_count": null,
      "outputs": [
        {
          "output_type": "stream",
          "name": "stdout",
          "text": [
            "Requirement already satisfied: transformers in /usr/local/lib/python3.10/dist-packages (4.46.2)\n",
            "Requirement already satisfied: PyPDF2 in /usr/local/lib/python3.10/dist-packages (3.0.1)\n",
            "Requirement already satisfied: pdfplumber in /usr/local/lib/python3.10/dist-packages (0.11.4)\n",
            "Requirement already satisfied: torch in /usr/local/lib/python3.10/dist-packages (2.5.1+cu121)\n",
            "Requirement already satisfied: filelock in /usr/local/lib/python3.10/dist-packages (from transformers) (3.16.1)\n",
            "Requirement already satisfied: huggingface-hub<1.0,>=0.23.2 in /usr/local/lib/python3.10/dist-packages (from transformers) (0.26.2)\n",
            "Requirement already satisfied: numpy>=1.17 in /usr/local/lib/python3.10/dist-packages (from transformers) (1.26.4)\n",
            "Requirement already satisfied: packaging>=20.0 in /usr/local/lib/python3.10/dist-packages (from transformers) (24.2)\n",
            "Requirement already satisfied: pyyaml>=5.1 in /usr/local/lib/python3.10/dist-packages (from transformers) (6.0.2)\n",
            "Requirement already satisfied: regex!=2019.12.17 in /usr/local/lib/python3.10/dist-packages (from transformers) (2024.9.11)\n",
            "Requirement already satisfied: requests in /usr/local/lib/python3.10/dist-packages (from transformers) (2.32.3)\n",
            "Requirement already satisfied: safetensors>=0.4.1 in /usr/local/lib/python3.10/dist-packages (from transformers) (0.4.5)\n",
            "Requirement already satisfied: tokenizers<0.21,>=0.20 in /usr/local/lib/python3.10/dist-packages (from transformers) (0.20.3)\n",
            "Requirement already satisfied: tqdm>=4.27 in /usr/local/lib/python3.10/dist-packages (from transformers) (4.66.6)\n",
            "Requirement already satisfied: pdfminer.six==20231228 in /usr/local/lib/python3.10/dist-packages (from pdfplumber) (20231228)\n",
            "Requirement already satisfied: Pillow>=9.1 in /usr/local/lib/python3.10/dist-packages (from pdfplumber) (11.0.0)\n",
            "Requirement already satisfied: pypdfium2>=4.18.0 in /usr/local/lib/python3.10/dist-packages (from pdfplumber) (4.30.0)\n",
            "Requirement already satisfied: charset-normalizer>=2.0.0 in /usr/local/lib/python3.10/dist-packages (from pdfminer.six==20231228->pdfplumber) (3.4.0)\n",
            "Requirement already satisfied: cryptography>=36.0.0 in /usr/local/lib/python3.10/dist-packages (from pdfminer.six==20231228->pdfplumber) (43.0.3)\n",
            "Requirement already satisfied: typing-extensions>=4.8.0 in /usr/local/lib/python3.10/dist-packages (from torch) (4.12.2)\n",
            "Requirement already satisfied: networkx in /usr/local/lib/python3.10/dist-packages (from torch) (3.4.2)\n",
            "Requirement already satisfied: jinja2 in /usr/local/lib/python3.10/dist-packages (from torch) (3.1.4)\n",
            "Requirement already satisfied: fsspec in /usr/local/lib/python3.10/dist-packages (from torch) (2024.10.0)\n",
            "Requirement already satisfied: sympy==1.13.1 in /usr/local/lib/python3.10/dist-packages (from torch) (1.13.1)\n",
            "Requirement already satisfied: mpmath<1.4,>=1.1.0 in /usr/local/lib/python3.10/dist-packages (from sympy==1.13.1->torch) (1.3.0)\n",
            "Requirement already satisfied: MarkupSafe>=2.0 in /usr/local/lib/python3.10/dist-packages (from jinja2->torch) (3.0.2)\n",
            "Requirement already satisfied: idna<4,>=2.5 in /usr/local/lib/python3.10/dist-packages (from requests->transformers) (3.10)\n",
            "Requirement already satisfied: urllib3<3,>=1.21.1 in /usr/local/lib/python3.10/dist-packages (from requests->transformers) (2.2.3)\n",
            "Requirement already satisfied: certifi>=2017.4.17 in /usr/local/lib/python3.10/dist-packages (from requests->transformers) (2024.8.30)\n",
            "Requirement already satisfied: cffi>=1.12 in /usr/local/lib/python3.10/dist-packages (from cryptography>=36.0.0->pdfminer.six==20231228->pdfplumber) (1.17.1)\n",
            "Requirement already satisfied: pycparser in /usr/local/lib/python3.10/dist-packages (from cffi>=1.12->cryptography>=36.0.0->pdfminer.six==20231228->pdfplumber) (2.22)\n"
          ]
        }
      ]
    },
    {
      "cell_type": "code",
      "source": [
        "# Librerías necesarias\n",
        "import pdfplumber\n",
        "# re para limpiar el texto\n",
        "import re\n",
        "import torch\n",
        "import torch.nn as nn\n",
        "from torch.utils.data import DataLoader, Dataset\n",
        "from sklearn.model_selection import train_test_split\n",
        "from sklearn.metrics import matthews_corrcoef, roc_auc_score, balanced_accuracy_score\n",
        "from transformers import BertTokenizer, BertModel, AdamW\n",
        "import pandas as pd\n",
        "import random"
      ],
      "metadata": {
        "id": "tqGRbdvwYtDS"
      },
      "execution_count": null,
      "outputs": []
    },
    {
      "cell_type": "code",
      "source": [
        "\n",
        "# Filtrado y obtención de estrofas\n",
        "def filtrar_texto(texto):\n",
        "    texto_filtrado=re.sub(r'\\b[I|V|X|L|C|D|M]+\\b', '', texto)\n",
        "    texto_filtrado=re.sub(r'\\b(Página|Capítulo)\\s?\\d+\\b', '', texto_filtrado)\n",
        "    return texto_filtrado\n",
        "\n",
        "def obtener_estrofas(texto):\n",
        "    lineas=[linea.strip() for linea in texto.split(\"\\n\") if linea.strip()]\n",
        "    estrofas=[]\n",
        "    i=0\n",
        "    total_lineas=len(lineas)\n",
        "    while i < total_lineas:\n",
        "        if total_lineas - i == 8:\n",
        "            estrofa=\"\\n\".join(lineas[i:i + 8])\n",
        "            estrofas.append(estrofa)\n",
        "            i += 8\n",
        "        else:\n",
        "            estrofa=\"\\n\".join(lineas[i:i + 6])\n",
        "            estrofas.append(estrofa)\n",
        "            i += 6\n",
        "    return estrofas"
      ],
      "metadata": {
        "id": "Gw-gsa4IfY3u"
      },
      "execution_count": null,
      "outputs": []
    },
    {
      "cell_type": "code",
      "source": [
        "# Extraer texto del PDF\n",
        "with pdfplumber.open(\"/content/hernandez_jose_-_el_gaucho_martin_fierro.pdf\") as pdf:\n",
        "    text=\"\"\n",
        "    for page_num in range(3, len(pdf.pages)):\n",
        "        page=pdf.pages[page_num]\n",
        "        page_text=page.extract_text()\n",
        "        if page_text:\n",
        "            text += page_text + \"\\n\"\n",
        "\n",
        "# Filtrado y división en estrofas\n",
        "text=filtrar_texto(text)\n",
        "estrofas=obtener_estrofas(text)\n",
        "\n",
        "# Crear DataFrame y etiquetas simuladas\n",
        "labels=[random.choice(['Positivo', 'Neutral', 'Negativo']) for _ in estrofas]\n",
        "df=pd.DataFrame({'estrofa': estrofas, 'sentimiento': labels})\n",
        "\n",
        "# Inicialización de BERT\n",
        "tokenizer=BertTokenizer.from_pretrained(\"dccuchile/bert-base-spanish-wwm-uncased\")\n",
        "bert_model=BertModel.from_pretrained(\"dccuchile/bert-base-spanish-wwm-uncased\")\n",
        "\n",
        "# Crear dataset personalizado\n",
        "class EstrofaDataset(Dataset):\n",
        "    def __init__(self, estrofas, labels):\n",
        "        self.estrofas=estrofas\n",
        "        self.labels=labels\n",
        "\n",
        "    def __len__(self):\n",
        "        return len(self.estrofas)\n",
        "\n",
        "    def __getitem__(self, idx):\n",
        "        encoding=tokenizer(self.estrofas[idx], padding='max_length', truncation=True, max_length=128, return_tensors='pt')\n",
        "        label=self.labels[idx]\n",
        "        return {key: val.squeeze(0) for key, val in encoding.items()}, torch.tensor(label)\n",
        "\n",
        "# Mapear las etiquetas\n",
        "label_map={'Positivo': 1, 'Neutral': 0, 'Negativo': -1}\n",
        "df['sentimiento']=df['sentimiento'].map(label_map)\n",
        "\n",
        "# Dividir los datos\n",
        "X_train, X_test, y_train, y_test=train_test_split(df['estrofa'].values, df['sentimiento'].values, test_size=0.2, random_state=42)\n",
        "train_dataset=EstrofaDataset(X_train, y_train)\n",
        "test_dataset=EstrofaDataset(X_test, y_test)\n",
        "\n",
        "# Crear DataLoader\n",
        "train_loader=DataLoader(train_dataset, batch_size=8, shuffle=True)\n",
        "test_loader=DataLoader(test_dataset, batch_size=8)\n",
        "\n",
        "# Definir modelo de clasificación basado en BERT\n",
        "class BERTSentimentClassifier(nn.Module):\n",
        "    def __init__(self, bert_model):\n",
        "        super(BERTSentimentClassifier, self).__init__()\n",
        "        self.bert=bert_model\n",
        "        self.classifier=nn.Linear(768, 3)\n",
        "\n",
        "    def forward(self, input_ids, attention_mask):\n",
        "        outputs=self.bert(input_ids=input_ids, attention_mask=attention_mask)\n",
        "        pooled_output=outputs.pooler_output\n",
        "        return self.classifier(pooled_output)"
      ],
      "metadata": {
        "id": "6eY9MUTJBtuB",
        "colab": {
          "base_uri": "https://localhost:8080/"
        },
        "outputId": "caf68155-9cee-40be-ac80-0705028e1114"
      },
      "execution_count": null,
      "outputs": [
        {
          "output_type": "stream",
          "name": "stderr",
          "text": [
            "Some weights of BertModel were not initialized from the model checkpoint at dccuchile/bert-base-spanish-wwm-uncased and are newly initialized: ['bert.pooler.dense.bias', 'bert.pooler.dense.weight']\n",
            "You should probably TRAIN this model on a down-stream task to be able to use it for predictions and inference.\n"
          ]
        }
      ]
    },
    {
      "cell_type": "code",
      "source": [
        "# Inicializar modelo y optimizador, despues se entrena al modelo\n",
        "model=BERTSentimentClassifier(bert_model)\n",
        "optimizer=AdamW(model.parameters(), lr=2e-5)\n",
        "model.train()\n",
        "for epoch in range(3):  # Número de épocas\n",
        "    for batch in train_loader:\n",
        "        optimizer.zero_grad()\n",
        "        inputs, labels=batch\n",
        "        outputs=model(inputs['input_ids'], inputs['attention_mask'])\n",
        "        loss=nn.CrossEntropyLoss()(outputs, labels + 1)  # Ajuste de etiquetas\n",
        "        loss.backward()\n",
        "        optimizer.step()"
      ],
      "metadata": {
        "id": "KVXJ7kY6-JMq",
        "colab": {
          "base_uri": "https://localhost:8080/"
        },
        "outputId": "6d1be195-17d8-4951-cde0-a9a0418e353e"
      },
      "execution_count": null,
      "outputs": [
        {
          "output_type": "stream",
          "name": "stderr",
          "text": [
            "/usr/local/lib/python3.10/dist-packages/transformers/optimization.py:591: FutureWarning: This implementation of AdamW is deprecated and will be removed in a future version. Use the PyTorch implementation torch.optim.AdamW instead, or set `no_deprecation_warning=True` to disable this warning\n",
            "  warnings.warn(\n"
          ]
        }
      ]
    },
    {
      "cell_type": "code",
      "source": [
        "import numpy as np\n",
        "from sklearn.metrics import balanced_accuracy_score, matthews_corrcoef, roc_auc_score\n",
        "import pandas as pd\n",
        "\n",
        "# Convertir listas a arreglos NumPy para operaciones vectorizadas\n",
        "all_preds = np.array(all_preds)\n",
        "all_labels = np.array(all_labels)\n",
        "\n",
        "# Ajustar índices (si necesitas restar 1, esto depende de la naturaleza de tus etiquetas)\n",
        "all_preds_adjusted = all_preds - 1\n",
        "\n",
        "# Calcular métricas\n",
        "print(\"Balanced Accuracy:\", balanced_accuracy_score(all_labels, all_preds_adjusted))\n",
        "print(\"Matthews Correlation Coefficient (MCC):\", matthews_corrcoef(all_labels, all_preds_adjusted))\n",
        "print(\"AUC-ROC:\", roc_auc_score(pd.get_dummies(all_labels), pd.get_dummies(all_preds_adjusted), multi_class='ovo'))"
      ],
      "metadata": {
        "colab": {
          "base_uri": "https://localhost:8080/"
        },
        "id": "1T5NQBBF-NDp",
        "outputId": "ba6455c7-074e-495e-915d-2ff68f0e1495"
      },
      "execution_count": null,
      "outputs": [
        {
          "output_type": "stream",
          "name": "stdout",
          "text": [
            "Balanced Accuracy: 0.39697802197802196\n",
            "Matthews Correlation Coefficient (MCC): 0.09689599192618088\n",
            "AUC-ROC: 0.5479714421381088\n"
          ]
        }
      ]
    },
    {
      "cell_type": "code",
      "source": [
        "# Seleccionar 15 estrofas aleatorias del conjunto de prueba\n",
        "indices_aleatorios=random.sample(range(len(X_test)), 15)\n",
        "\n",
        "# Poner el modelo en modo de evaluación\n",
        "model.eval()\n",
        "\n",
        "print(\"\\nClasificación de 15 estrofas seleccionadas aleatoriamente:\\n\")\n",
        "with torch.no_grad():\n",
        "    for i, idx in enumerate(indices_aleatorios, start=1):\n",
        "        inputs=tokenizer(X_test[idx], padding='max_length', truncation=True, max_length=128, return_tensors='pt')\n",
        "        # Realizar la predicción\n",
        "        outputs=model(inputs['input_ids'], inputs['attention_mask'])\n",
        "        pred=torch.argmax(outputs, axis=1).item() - 1\n",
        "        # Obtener la etiqueta en formato de texto\n",
        "        sentimiento_predicho={1: \"Positivo\", 0: \"Neutral\", -1: \"Negativo\"}[pred]\n",
        "        print(f\"Estrofa {i}:\")\n",
        "        print(X_test[idx])\n",
        "        print(f\"Probabilidad de sentimiento predicho: {sentimiento_predicho}\\n\")"
      ],
      "metadata": {
        "colab": {
          "base_uri": "https://localhost:8080/"
        },
        "id": "q72OayLxOCE3",
        "outputId": "6f1269db-5aab-4106-9675-c3a0c4039e13"
      },
      "execution_count": null,
      "outputs": [
        {
          "output_type": "stream",
          "name": "stdout",
          "text": [
            "\n",
            "Clasificación de 15 estrofas seleccionadas aleatoriamente:\n",
            "\n",
            "Estrofa 1:\n",
            "la mujer, para olvidar.\n",
            "Alcé mi poncho y mis prendas\n",
            "y me largué a padecer\n",
            "por culpa de una mujer\n",
            "que quiso engañar a dos.\n",
            "Al rancho le dije adiós,\n",
            "Sentimiento Predicho: Neutral\n",
            "\n",
            "Estrofa 2:\n",
            "como agua de manantial.\n",
            "Con la guitarra en la mano\n",
            "ni las moscas se me arriman;\n",
            "naides me pone el pie encima,\n",
            "y, cuando el pecho se entona,\n",
            "hago gemir a la prima\n",
            "Sentimiento Predicho: Negativo\n",
            "\n",
            "Estrofa 3:\n",
            "Al verse sin compañero\n",
            "el otro se sofrenó;\n",
            "entonces le dentré yo,\n",
            "sin dejarlo resollar,\n",
            "pero ya empezó a aflojar\n",
            "y a la pun...ta disparó.\n",
            "Sentimiento Predicho: Positivo\n",
            "\n",
            "Estrofa 4:\n",
            "Para mi el campo son flores\n",
            "dende que libre me veo;\n",
            "donde me lleva el deseo\n",
            "allí mis pasos dirijo\n",
            "y hasta en las sombras, de fijo\n",
            "que a dondequiera rumbeo.\n",
            "Sentimiento Predicho: Neutral\n",
            "\n",
            "Estrofa 5:\n",
            "Sólo una manta peluda\n",
            "era cuanto me quedaba;\n",
            "la había agenciao a la taba\n",
            "y ella me tapaba el bulto;\n",
            "yaguané que allí ganaba\n",
            "no salía... ni con indulto.\n",
            "Sentimiento Predicho: Negativo\n",
            "\n",
            "Estrofa 6:\n",
            "me arremangué el calzoncillo\n",
            "y me ajusté bien la faja\n",
            "y en una mata de paja\n",
            "probé el filo del cuchillo.\n",
            "Para tenerlo a la mano\n",
            "el flete en el pasto até,\n",
            "Sentimiento Predicho: Neutral\n",
            "\n",
            "Estrofa 7:\n",
            "Ansí en mi moro, escarciando,\n",
            "enderecé a la frontera.\n",
            "¡Aparcero, si usté viera\n",
            "lo que se llama cantón...!\n",
            "Ni envidia tengo al ratón\n",
            "en aquella ratonera.\n",
            "Sentimiento Predicho: Negativo\n",
            "\n",
            "Estrofa 8:\n",
            "y yo, pa acabarlo todo\n",
            "a los indios me refalo.\n",
            "Pido perdón a mi Dios,\n",
            "que tantos bienes me hizo;\n",
            "pero dende que es preciso\n",
            "que viva entre los infieles,\n",
            "Sentimiento Predicho: Neutral\n",
            "\n",
            "Estrofa 9:\n",
            "ni una pollera le ha dao.\n",
            "Grandemente lo pasaba\n",
            "con aquella prenda mía\n",
            "viviendo con alegría\n",
            "como la mosca en la miel.\n",
            "¡Amigo, qué tiempo aquél!\n",
            "Sentimiento Predicho: Positivo\n",
            "\n",
            "Estrofa 10:\n",
            "como güérfano a la teta.\n",
            "¡Y qué jugadas se armaban\n",
            "cuando estábamos riunidos!\n",
            "Siempre íbamos prevenidos\n",
            "pues en tales ocasiones\n",
            "caiban muchos comedidos\n",
            "Sentimiento Predicho: Positivo\n",
            "\n",
            "Estrofa 11:\n",
            "El Gaucho Martín Fierro\n",
            "Aquí me pongo a cantar\n",
            "al compás de la vigüela,\n",
            "que el hombre que lo desvela\n",
            "una pena estrordinaria,\n",
            "como la ave solitaria\n",
            "Sentimiento Predicho: Negativo\n",
            "\n",
            "Estrofa 12:\n",
            "que el hombre traiba malicia.\n",
            "El me daba voz de amigo,\n",
            "pero no le tenía fe.\n",
            "Era el jefe y, ya se ve,\n",
            "no podía competir yo;\n",
            "en mi rancho se pegó\n",
            "Sentimiento Predicho: Neutral\n",
            "\n",
            "Estrofa 13:\n",
            "Jamás me puedo olvidar\n",
            "lo que esa vez me pasó:\n",
            "dentrando una noche yo\n",
            "al fortín, un enganchao,\n",
            "que estaba medio mamao,\n",
            "allí me desconoció.\n",
            "Sentimiento Predicho: Neutral\n",
            "\n",
            "Estrofa 14:\n",
            "sin que se corten jamás.\n",
            "Y aunque yo por mi inorancia\n",
            "con gran trabajo me esplico,\n",
            "cuando llego a abrir el pico\n",
            "tenganló por cosa cierta:\n",
            "sale un verso y en la puerta\n",
            "Sentimiento Predicho: Negativo\n",
            "\n",
            "Estrofa 15:\n",
            "tapadita con su poncho.\n",
            "Y apenas la madrugada\n",
            "empezaba a coloriar,\n",
            "los pájaros a cantar\n",
            "y las gallinas a apiarse,\n",
            "era cosa de largarse\n",
            "Sentimiento Predicho: Negativo\n",
            "\n"
          ]
        }
      ]
    }
  ]
}
