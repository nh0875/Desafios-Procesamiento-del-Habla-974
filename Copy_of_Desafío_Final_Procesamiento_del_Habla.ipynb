{
  "nbformat": 4,
  "nbformat_minor": 0,
  "metadata": {
    "colab": {
      "provenance": [],
      "authorship_tag": "ABX9TyO3HhBIEXTF5SfqBDU/Tyxk",
      "include_colab_link": true
    },
    "kernelspec": {
      "name": "python3",
      "display_name": "Python 3"
    },
    "language_info": {
      "name": "python"
    }
  },
  "cells": [
    {
      "cell_type": "markdown",
      "metadata": {
        "id": "view-in-github",
        "colab_type": "text"
      },
      "source": [
        "<a href=\"https://colab.research.google.com/github/nh0875/Desafios-Procesamiento-del-Habla-974/blob/main/Copy_of_Desaf%C3%ADo_Final_Procesamiento_del_Habla.ipynb\" target=\"_parent\"><img src=\"https://colab.research.google.com/assets/colab-badge.svg\" alt=\"Open In Colab\"/></a>"
      ]
    },
    {
      "cell_type": "markdown",
      "source": [
        "# **Desafio Obligatorio Procesamiento del Habla**\n",
        "**Juan Ignacio Hilliard Bochaca 4162974**\n",
        "\n",
        "**Tema 5 (Análisis de Sentimiento del Texto)**\n",
        "\n",
        "Introduccion:"
      ],
      "metadata": {
        "id": "0QMEHjlj6VYh"
      }
    },
    {
      "cell_type": "code",
      "source": [
        "!pip install transformers PyPDF2 pdfplumber torch"
      ],
      "metadata": {
        "colab": {
          "base_uri": "https://localhost:8080/"
        },
        "id": "mocrri8vAnZq",
        "outputId": "3ec500fa-5385-468c-de09-504d62846e7e"
      },
      "execution_count": null,
      "outputs": [
        {
          "output_type": "stream",
          "name": "stdout",
          "text": [
            "Requirement already satisfied: transformers in /usr/local/lib/python3.10/dist-packages (4.46.2)\n",
            "Requirement already satisfied: PyPDF2 in /usr/local/lib/python3.10/dist-packages (3.0.1)\n",
            "Requirement already satisfied: pdfplumber in /usr/local/lib/python3.10/dist-packages (0.11.4)\n",
            "Requirement already satisfied: torch in /usr/local/lib/python3.10/dist-packages (2.5.1+cu121)\n",
            "Requirement already satisfied: filelock in /usr/local/lib/python3.10/dist-packages (from transformers) (3.16.1)\n",
            "Requirement already satisfied: huggingface-hub<1.0,>=0.23.2 in /usr/local/lib/python3.10/dist-packages (from transformers) (0.26.2)\n",
            "Requirement already satisfied: numpy>=1.17 in /usr/local/lib/python3.10/dist-packages (from transformers) (1.26.4)\n",
            "Requirement already satisfied: packaging>=20.0 in /usr/local/lib/python3.10/dist-packages (from transformers) (24.2)\n",
            "Requirement already satisfied: pyyaml>=5.1 in /usr/local/lib/python3.10/dist-packages (from transformers) (6.0.2)\n",
            "Requirement already satisfied: regex!=2019.12.17 in /usr/local/lib/python3.10/dist-packages (from transformers) (2024.9.11)\n",
            "Requirement already satisfied: requests in /usr/local/lib/python3.10/dist-packages (from transformers) (2.32.3)\n",
            "Requirement already satisfied: safetensors>=0.4.1 in /usr/local/lib/python3.10/dist-packages (from transformers) (0.4.5)\n",
            "Requirement already satisfied: tokenizers<0.21,>=0.20 in /usr/local/lib/python3.10/dist-packages (from transformers) (0.20.3)\n",
            "Requirement already satisfied: tqdm>=4.27 in /usr/local/lib/python3.10/dist-packages (from transformers) (4.66.6)\n",
            "Requirement already satisfied: pdfminer.six==20231228 in /usr/local/lib/python3.10/dist-packages (from pdfplumber) (20231228)\n",
            "Requirement already satisfied: Pillow>=9.1 in /usr/local/lib/python3.10/dist-packages (from pdfplumber) (11.0.0)\n",
            "Requirement already satisfied: pypdfium2>=4.18.0 in /usr/local/lib/python3.10/dist-packages (from pdfplumber) (4.30.0)\n",
            "Requirement already satisfied: charset-normalizer>=2.0.0 in /usr/local/lib/python3.10/dist-packages (from pdfminer.six==20231228->pdfplumber) (3.4.0)\n",
            "Requirement already satisfied: cryptography>=36.0.0 in /usr/local/lib/python3.10/dist-packages (from pdfminer.six==20231228->pdfplumber) (43.0.3)\n",
            "Requirement already satisfied: typing-extensions>=4.8.0 in /usr/local/lib/python3.10/dist-packages (from torch) (4.12.2)\n",
            "Requirement already satisfied: networkx in /usr/local/lib/python3.10/dist-packages (from torch) (3.4.2)\n",
            "Requirement already satisfied: jinja2 in /usr/local/lib/python3.10/dist-packages (from torch) (3.1.4)\n",
            "Requirement already satisfied: fsspec in /usr/local/lib/python3.10/dist-packages (from torch) (2024.10.0)\n",
            "Requirement already satisfied: sympy==1.13.1 in /usr/local/lib/python3.10/dist-packages (from torch) (1.13.1)\n",
            "Requirement already satisfied: mpmath<1.4,>=1.1.0 in /usr/local/lib/python3.10/dist-packages (from sympy==1.13.1->torch) (1.3.0)\n",
            "Requirement already satisfied: MarkupSafe>=2.0 in /usr/local/lib/python3.10/dist-packages (from jinja2->torch) (3.0.2)\n",
            "Requirement already satisfied: idna<4,>=2.5 in /usr/local/lib/python3.10/dist-packages (from requests->transformers) (3.10)\n",
            "Requirement already satisfied: urllib3<3,>=1.21.1 in /usr/local/lib/python3.10/dist-packages (from requests->transformers) (2.2.3)\n",
            "Requirement already satisfied: certifi>=2017.4.17 in /usr/local/lib/python3.10/dist-packages (from requests->transformers) (2024.8.30)\n",
            "Requirement already satisfied: cffi>=1.12 in /usr/local/lib/python3.10/dist-packages (from cryptography>=36.0.0->pdfminer.six==20231228->pdfplumber) (1.17.1)\n",
            "Requirement already satisfied: pycparser in /usr/local/lib/python3.10/dist-packages (from cffi>=1.12->cryptography>=36.0.0->pdfminer.six==20231228->pdfplumber) (2.22)\n"
          ]
        }
      ]
    },
    {
      "cell_type": "code",
      "source": [
        "# Importo las librerias como las dependencias que voy a usar en mi codigo\n",
        "# Pdfplumber y re para procesar al Martin Fierro de forma correcta\n",
        "import pdfplumber\n",
        "import re\n",
        "# Sklearn para dividir al Martin Fierro en Entrenamiento y Prueba\n",
        "from sklearn.model_selection import train_test_split\n",
        "from sklearn.metrics import classification_report, accuracy_score\n",
        "from transformers import BertTokenizer, BertModel\n",
        "import torch\n",
        "from torch.utils.data import DataLoader, Dataset\n",
        "import pandas as pd\n",
        "import numpy as np\n",
        "import matplotlib.pyplot as plt\n",
        "from sklearn.linear_model import LogisticRegression\n",
        "import random"
      ],
      "metadata": {
        "id": "tqGRbdvwYtDS"
      },
      "execution_count": null,
      "outputs": []
    },
    {
      "cell_type": "code",
      "source": [
        "# Filtrar el texto innecesario\n",
        "def filtrar_texto(texto):\n",
        "    # Uso \"re\" para que el bot no procese los numeros romanos al principio de cada pagina, como tambien el pie de las mismas\n",
        "    texto_filtrado=re.sub(r'\\b[I|V|X|L|C|D|M]+\\b', '', texto)\n",
        "    texto_filtrado=re.sub(r'\\b(Página|Capítulo)\\s?\\d+\\b', '', texto_filtrado)\n",
        "    return texto_filtrado\n",
        "\n",
        "# Dividir en estrofas\n",
        "def obtener_estrofas(texto):\n",
        "    lineas=[linea.strip() for linea in texto.split(\"\\n\") if linea.strip()]\n",
        "    estrofas=[]\n",
        "    i=0\n",
        "    total_lineas=len(lineas)\n",
        "    # Puse una condicion para la cantidad de Versos, todas las estrofas tienen 6 versos menos la ultima\n",
        "    while i < total_lineas:\n",
        "        # La ultima estrofa tiene 8 versos por eso puse una condicion en ella\n",
        "        if total_lineas - i == 8:\n",
        "            estrofa=\"\\n\".join(lineas[i:i + 8])\n",
        "            estrofas.append(estrofa)\n",
        "            i += 8\n",
        "        # Estas serian todas las demas estrofas, 6 versos cada una\n",
        "        else:\n",
        "            estrofa=\"\\n\".join(lineas[i:i + 6])\n",
        "            estrofas.append(estrofa)\n",
        "            i += 6\n",
        "    return estrofas"
      ],
      "metadata": {
        "id": "Gw-gsa4IfY3u"
      },
      "execution_count": null,
      "outputs": []
    },
    {
      "cell_type": "code",
      "source": [
        "# Uso pdfplumber para abrir el libro en mi entorno, aplico las funciones que cree lineas anteriores\n",
        "with pdfplumber.open(\"/content/hernandez_jose_-_el_gaucho_martin_fierro.pdf\") as pdf:\n",
        "    text=\"\"\n",
        "    for page_num in range(3, len(pdf.pages)):  # Desde la página 4 comienza a procesar el texto\n",
        "        page=pdf.pages[page_num]\n",
        "        page_text=page.extract_text()\n",
        "        if page_text:\n",
        "            text += page_text + \"\\n\"\n",
        "\n",
        "# Filtrar y dividir en estrofas\n",
        "text=filtrar_texto(text)\n",
        "estrofas=obtener_estrofas(text)"
      ],
      "metadata": {
        "id": "6eY9MUTJBtuB"
      },
      "execution_count": null,
      "outputs": []
    },
    {
      "cell_type": "code",
      "source": [
        "# Etiquetas simuladas para las estrofas\n",
        "labels=[random.choice(['Positivo', 'Neutral', 'Negativo']) for _ in estrofas]\n",
        "\n",
        "# Crear dataframe para mi texto\n",
        "df=pd.DataFrame({'estrofa': estrofas, 'sentimiento': labels})"
      ],
      "metadata": {
        "id": "KVXJ7kY6-JMq"
      },
      "execution_count": null,
      "outputs": []
    },
    {
      "cell_type": "code",
      "source": [
        "# Inicializar el modelo y tokenizador usando BERT (dccuchile/bert-base-spanish-wwm-uncased) modelo pre-entrenado solo para procesar textoe n español\n",
        "tokenizer=BertTokenizer.from_pretrained(\"dccuchile/bert-base-spanish-wwm-uncased\")\n",
        "bert_model=BertModel.from_pretrained(\"dccuchile/bert-base-spanish-wwm-uncased\")\n",
        "\n",
        "# Función para obtener embeddings de una frase\n",
        "def obtener_embeddings(texto):\n",
        "    tokens=tokenizer(texto, padding='max_length', truncation=True, max_length=512, return_tensors=\"pt\")\n",
        "    with torch.no_grad():\n",
        "        output=bert_model(**tokens)\n",
        "    return output.last_hidden_state[:, 0, :].numpy()\n",
        "\n",
        "# Vectorizar las estrofas, creo mi \"X\" y \"y\" para que mi bot precese el texto en partes\n",
        "X=np.array([obtener_embeddings(estrofa)[0] for estrofa in df['estrofa']])\n",
        "y=df['sentimiento'].map({'Positivo': 1, 'Neutral': 0, 'Negativo': -1}).values"
      ],
      "metadata": {
        "colab": {
          "base_uri": "https://localhost:8080/"
        },
        "id": "1T5NQBBF-NDp",
        "outputId": "f32b1943-d804-4c3c-a0a2-b5b909404bfe"
      },
      "execution_count": null,
      "outputs": [
        {
          "output_type": "stream",
          "name": "stderr",
          "text": [
            "Some weights of BertModel were not initialized from the model checkpoint at dccuchile/bert-base-spanish-wwm-uncased and are newly initialized: ['bert.pooler.dense.bias', 'bert.pooler.dense.weight']\n",
            "You should probably TRAIN this model on a down-stream task to be able to use it for predictions and inference.\n"
          ]
        }
      ]
    },
    {
      "cell_type": "code",
      "source": [
        "# Separar conjuntos\n",
        "X_train, X_test, y_train, y_test=train_test_split(X, y, test_size=0.2, random_state=42)\n",
        "\n",
        "# Entrenar modelo\n",
        "clf=LogisticRegression(max_iter=1000)\n",
        "clf.fit(X_train, y_train)\n",
        "\n",
        "# Predicciones\n",
        "y_pred=clf.predict(X_test)\n",
        "\n",
        "# Visualizo las evaluaciones, use las metricas F-1 y Acurrancy\n",
        "print(\"Accuracy:\", accuracy_score(y_test, y_pred))\n",
        "print(\"Reporte de Clasificación:\")\n",
        "print(classification_report(y_test, y_pred, target_names=['Negativo', 'Neutral', 'Positivo']))"
      ],
      "metadata": {
        "colab": {
          "base_uri": "https://localhost:8080/"
        },
        "id": "SpcqfuxK-RWq",
        "outputId": "fe3619ca-ee7c-48da-9656-1e26cedc0a9c"
      },
      "execution_count": null,
      "outputs": [
        {
          "output_type": "stream",
          "name": "stdout",
          "text": [
            "Accuracy: 0.3974358974358974\n",
            "Reporte de Clasificación:\n",
            "              precision    recall  f1-score   support\n",
            "\n",
            "    Negativo       0.53      0.37      0.43        27\n",
            "     Neutral       0.33      0.36      0.35        22\n",
            "    Positivo       0.37      0.45      0.41        29\n",
            "\n",
            "    accuracy                           0.40        78\n",
            "   macro avg       0.41      0.39      0.40        78\n",
            "weighted avg       0.41      0.40      0.40        78\n",
            "\n"
          ]
        }
      ]
    },
    {
      "cell_type": "code",
      "source": [
        "# Graficos con las predicciones de mi modelo\n",
        "unique, counts=np.unique(y_pred, return_counts=True)\n",
        "plt.bar(['Negativo', 'Neutral', 'Positivo'], counts, color=['red', 'gray', 'green'])\n",
        "plt.title(\"Distribución de Predicciones\")\n",
        "plt.show()"
      ],
      "metadata": {
        "colab": {
          "base_uri": "https://localhost:8080/",
          "height": 452
        },
        "id": "vODof5Ee-gx5",
        "outputId": "1cb63f62-175c-4442-8586-a593dbabbaef"
      },
      "execution_count": null,
      "outputs": [
        {
          "output_type": "display_data",
          "data": {
            "text/plain": [
              "<Figure size 640x480 with 1 Axes>"
            ],
            "image/png": "[encoded data removed]"
          },
          "metadata": {}
        }
      ]
    }
  ]
}