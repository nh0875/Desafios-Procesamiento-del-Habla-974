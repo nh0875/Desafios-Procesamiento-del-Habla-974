{
  "nbformat": 4,
  "nbformat_minor": 0,
  "metadata": {
    "colab": {
      "provenance": [],
      "authorship_tag": "ABX9TyPsU2oWgNwMFqAiqKgzPcEq",
      "include_colab_link": true
    },
    "kernelspec": {
      "name": "python3",
      "display_name": "Python 3"
    },
    "language_info": {
      "name": "python"
    }
  },
  "cells": [
    {
      "cell_type": "markdown",
      "metadata": {
        "id": "view-in-github",
        "colab_type": "text"
      },
      "source": [
        "<a href=\"https://colab.research.google.com/github/nh0875/Desafios-Procesamiento-del-Habla-974/blob/main/Copy_of_Desaf%C3%ADo_Final_Procesamiento_del_Habla.ipynb\" target=\"_parent\"><img src=\"https://colab.research.google.com/assets/colab-badge.svg\" alt=\"Open In Colab\"/></a>"
      ]
    },
    {
      "cell_type": "markdown",
      "source": [
        "# **Desafio Obligatorio Procesamiento del Habla**\n",
        "**Juan Ignacio Hilliard Bochaca 4162974**\n",
        "\n",
        "**Tema 5 (Análisis de Sentimiento del Texto)**\n",
        "\n",
        "Introduccion:"
      ],
      "metadata": {
        "id": "0QMEHjlj6VYh"
      }
    },
    {
      "cell_type": "code",
      "source": [
        "!pip install transformers PyPDF2 pdfplumber torch"
      ],
      "metadata": {
        "colab": {
          "base_uri": "https://localhost:8080/"
        },
        "id": "mocrri8vAnZq",
        "outputId": "3e1161da-3789-4265-d8f2-a67ce3713ed1"
      },
      "execution_count": null,
      "outputs": [
        {
          "output_type": "stream",
          "name": "stdout",
          "text": [
            "Requirement already satisfied: transformers in /usr/local/lib/python3.10/dist-packages (4.46.2)\n",
            "Requirement already satisfied: PyPDF2 in /usr/local/lib/python3.10/dist-packages (3.0.1)\n",
            "Requirement already satisfied: pdfplumber in /usr/local/lib/python3.10/dist-packages (0.11.4)\n",
            "Requirement already satisfied: torch in /usr/local/lib/python3.10/dist-packages (2.5.1+cu121)\n",
            "Requirement already satisfied: filelock in /usr/local/lib/python3.10/dist-packages (from transformers) (3.16.1)\n",
            "Requirement already satisfied: huggingface-hub<1.0,>=0.23.2 in /usr/local/lib/python3.10/dist-packages (from transformers) (0.26.2)\n",
            "Requirement already satisfied: numpy>=1.17 in /usr/local/lib/python3.10/dist-packages (from transformers) (1.26.4)\n",
            "Requirement already satisfied: packaging>=20.0 in /usr/local/lib/python3.10/dist-packages (from transformers) (24.2)\n",
            "Requirement already satisfied: pyyaml>=5.1 in /usr/local/lib/python3.10/dist-packages (from transformers) (6.0.2)\n",
            "Requirement already satisfied: regex!=2019.12.17 in /usr/local/lib/python3.10/dist-packages (from transformers) (2024.9.11)\n",
            "Requirement already satisfied: requests in /usr/local/lib/python3.10/dist-packages (from transformers) (2.32.3)\n",
            "Requirement already satisfied: safetensors>=0.4.1 in /usr/local/lib/python3.10/dist-packages (from transformers) (0.4.5)\n",
            "Requirement already satisfied: tokenizers<0.21,>=0.20 in /usr/local/lib/python3.10/dist-packages (from transformers) (0.20.3)\n",
            "Requirement already satisfied: tqdm>=4.27 in /usr/local/lib/python3.10/dist-packages (from transformers) (4.66.6)\n",
            "Requirement already satisfied: pdfminer.six==20231228 in /usr/local/lib/python3.10/dist-packages (from pdfplumber) (20231228)\n",
            "Requirement already satisfied: Pillow>=9.1 in /usr/local/lib/python3.10/dist-packages (from pdfplumber) (11.0.0)\n",
            "Requirement already satisfied: pypdfium2>=4.18.0 in /usr/local/lib/python3.10/dist-packages (from pdfplumber) (4.30.0)\n",
            "Requirement already satisfied: charset-normalizer>=2.0.0 in /usr/local/lib/python3.10/dist-packages (from pdfminer.six==20231228->pdfplumber) (3.4.0)\n",
            "Requirement already satisfied: cryptography>=36.0.0 in /usr/local/lib/python3.10/dist-packages (from pdfminer.six==20231228->pdfplumber) (43.0.3)\n",
            "Requirement already satisfied: typing-extensions>=4.8.0 in /usr/local/lib/python3.10/dist-packages (from torch) (4.12.2)\n",
            "Requirement already satisfied: networkx in /usr/local/lib/python3.10/dist-packages (from torch) (3.4.2)\n",
            "Requirement already satisfied: jinja2 in /usr/local/lib/python3.10/dist-packages (from torch) (3.1.4)\n",
            "Requirement already satisfied: fsspec in /usr/local/lib/python3.10/dist-packages (from torch) (2024.10.0)\n",
            "Requirement already satisfied: sympy==1.13.1 in /usr/local/lib/python3.10/dist-packages (from torch) (1.13.1)\n",
            "Requirement already satisfied: mpmath<1.4,>=1.1.0 in /usr/local/lib/python3.10/dist-packages (from sympy==1.13.1->torch) (1.3.0)\n",
            "Requirement already satisfied: MarkupSafe>=2.0 in /usr/local/lib/python3.10/dist-packages (from jinja2->torch) (3.0.2)\n",
            "Requirement already satisfied: idna<4,>=2.5 in /usr/local/lib/python3.10/dist-packages (from requests->transformers) (3.10)\n",
            "Requirement already satisfied: urllib3<3,>=1.21.1 in /usr/local/lib/python3.10/dist-packages (from requests->transformers) (2.2.3)\n",
            "Requirement already satisfied: certifi>=2017.4.17 in /usr/local/lib/python3.10/dist-packages (from requests->transformers) (2024.8.30)\n",
            "Requirement already satisfied: cffi>=1.12 in /usr/local/lib/python3.10/dist-packages (from cryptography>=36.0.0->pdfminer.six==20231228->pdfplumber) (1.17.1)\n",
            "Requirement already satisfied: pycparser in /usr/local/lib/python3.10/dist-packages (from cffi>=1.12->cryptography>=36.0.0->pdfminer.six==20231228->pdfplumber) (2.22)\n"
          ]
        }
      ]
    },
    {
      "cell_type": "code",
      "source": [
        "# Importo las librerias como las dependencias que voy a usar en mi codigo\n",
        "# Pdfplumber y re para procesar al Martin Fierro de forma correcta\n",
        "import pdfplumber\n",
        "import re\n",
        "# Sklearn para dividir al Martin Fierro en Entrenamiento y Prueba\n",
        "from sklearn.model_selection import train_test_split\n",
        "from sklearn.metrics import classification_report, accuracy_score\n",
        "from transformers import BertTokenizer, BertModel\n",
        "import torch\n",
        "from torch.utils.data import DataLoader, Dataset\n",
        "import pandas as pd\n",
        "import numpy as np\n",
        "import matplotlib.pyplot as plt\n",
        "from sklearn.linear_model import LogisticRegression\n",
        "import random"
      ],
      "metadata": {
        "id": "tqGRbdvwYtDS"
      },
      "execution_count": null,
      "outputs": []
    },
    {
      "cell_type": "code",
      "source": [
        "# Filtrar el texto innecesario\n",
        "def filtrar_texto(texto):\n",
        "    # Uso \"re\" para que el bot no procese los numeros romanos al principio de cada pagina, como tambien el pie de las mismas\n",
        "    texto_filtrado=re.sub(r'\\b[I|V|X|L|C|D|M]+\\b', '', texto)\n",
        "    texto_filtrado=re.sub(r'\\b(Página|Capítulo)\\s?\\d+\\b', '', texto_filtrado)\n",
        "    return texto_filtrado\n",
        "\n",
        "# Dividir en estrofas\n",
        "def obtener_estrofas(texto):\n",
        "    lineas=[linea.strip() for linea in texto.split(\"\\n\") if linea.strip()]\n",
        "    estrofas=[]\n",
        "    i=0\n",
        "    total_lineas=len(lineas)\n",
        "    # Puse una condicion para la cantidad de Versos, todas las estrofas tienen 6 versos menos la ultima\n",
        "    while i < total_lineas:\n",
        "        # La ultima estrofa tiene 8 versos por eso puse una condicion en ella\n",
        "        if total_lineas - i == 8:\n",
        "            estrofa=\"\\n\".join(lineas[i:i + 8])\n",
        "            estrofas.append(estrofa)\n",
        "            i += 8\n",
        "        # Estas serian todas las demas estrofas, 6 versos cada una\n",
        "        else:\n",
        "            estrofa=\"\\n\".join(lineas[i:i + 6])\n",
        "            estrofas.append(estrofa)\n",
        "            i += 6\n",
        "    return estrofas"
      ],
      "metadata": {
        "id": "Gw-gsa4IfY3u"
      },
      "execution_count": null,
      "outputs": []
    },
    {
      "cell_type": "code",
      "source": [
        "# Uso pdfplumber para abrir el libro en mi entorno, aplico las funciones que cree lineas anteriores\n",
        "with pdfplumber.open(\"/content/hernandez_jose_-_el_gaucho_martin_fierro.pdf\") as pdf:\n",
        "    text=\"\"\n",
        "    for page_num in range(3, len(pdf.pages)):  # Desde la página 4 comienza a procesar el texto\n",
        "        page=pdf.pages[page_num]\n",
        "        page_text=page.extract_text()\n",
        "        if page_text:\n",
        "            text += page_text + \"\\n\"\n",
        "\n",
        "# Filtrar y dividir en estrofas\n",
        "text=filtrar_texto(text)\n",
        "estrofas=obtener_estrofas(text)"
      ],
      "metadata": {
        "id": "6eY9MUTJBtuB"
      },
      "execution_count": null,
      "outputs": []
    },
    {
      "cell_type": "code",
      "source": [
        "# Etiquetas simuladas para las estrofas\n",
        "labels=[random.choice(['Positivo', 'Neutral', 'Negativo']) for _ in estrofas]\n",
        "\n",
        "# Crear dataframe para mi texto\n",
        "df=pd.DataFrame({'estrofa': estrofas, 'sentimiento': labels})"
      ],
      "metadata": {
        "id": "KVXJ7kY6-JMq"
      },
      "execution_count": null,
      "outputs": []
    },
    {
      "cell_type": "code",
      "source": [
        "# Inicializar el modelo y tokenizador usando BERT (dccuchile/bert-base-spanish-wwm-uncased) modelo pre-entrenado solo para procesar textoe n español\n",
        "tokenizer=BertTokenizer.from_pretrained(\"dccuchile/bert-base-spanish-wwm-uncased\")\n",
        "bert_model=BertModel.from_pretrained(\"dccuchile/bert-base-spanish-wwm-uncased\")\n",
        "\n",
        "# Función para obtener embeddings de una frase\n",
        "def obtener_embeddings(texto):\n",
        "    tokens=tokenizer(texto, padding='max_length', truncation=True, max_length=512, return_tensors=\"pt\")\n",
        "    with torch.no_grad():\n",
        "        output=bert_model(**tokens)\n",
        "    return output.last_hidden_state[:, 0, :].numpy()\n",
        "\n",
        "# Vectorizar las estrofas, creo mi \"X\" y \"y\" para que mi bot precese el texto en partes\n",
        "X=np.array([obtener_embeddings(estrofa)[0] for estrofa in df['estrofa']])\n",
        "y=df['sentimiento'].map({'Positivo': 1, 'Neutral': 0, 'Negativo': -1}).values"
      ],
      "metadata": {
        "colab": {
          "base_uri": "https://localhost:8080/",
          "height": 389,
          "referenced_widgets": [
            "620377a43a6c4baaaade174d843b215f",
            "7eae6a0ab7e74284a5168894f08077b3",
            "2b1f7ba522804c97a570290fa0669858",
            "4484a5df3b14485abcf2c83b341982dc",
            "53c61ecd1a974f74a4a019e1b6a260ad",
            "3acc1e3812174e789d8878597df77da3",
            "6479c815c8d4400fa45b988c7c00cd8e",
            "48ddf395597a45569e3ab6d87fdcb12a",
            "8a0eb46195374f909c4852eaa493b7e3",
            "fecd5fc226be4667bd3cb5eb17efd300",
            "5f74f956e11549a1a76cd50e37020fb7",
            "6d56a3e3314342ffa23f2c3abe990a3b",
            "f988d38097824b58b6d765a7cceb1536",
            "3c8c004ff349409e8c9693108ca89731",
            "67669c04b5bb44e1b723087c93c5c959",
            "237d8d5be3e448c1be7af6ac20b5f3ce",
            "4e4a038fa9b24c50afd6b37bff3d74b3",
            "2b873f2c0ce64e7bb9be4e827a0e0c80",
            "f56620ec3d444338a2953f92cf571d20",
            "2e11afd1b2c94d1491ac1a5bed61bd47",
            "2881c9f203694cb7ba51b0b58d25f10d",
            "2fe33ee6278c44e88c437791384a7ca3",
            "272a266c6845441f87ee0227907867db",
            "7ed29d5afa0b478d900be3cd20f1a499",
            "c9ce368f871647ada1681174057b2a36",
            "3766255e7a184b729afd20f72133de94",
            "7b7099f85d5545adbd1a8bd77755c495",
            "ccd3be54f6124b27a26380ca4f270108",
            "3cd5c761731c4a23b4f27ccdc7f09d2a",
            "3ab9e7f5f7234bd684daf10e12267aee",
            "675b2118efcd4eac98cb1cf1b2d0ee5a",
            "438c2d1d158d41ab9031acab385add6e",
            "9ea0261d04104925b692aac635655e17",
            "9d96b72a9065463c894fc62d78b4cfc3",
            "4912dfed290d420e95081cfd266ffa13",
            "93c8e646290c4571b5ef28619f392f5e",
            "ec117aed05564160b5a8cd641459fd44",
            "cca90e5bffc94784b066a184b0be397c",
            "f6849c725663412491b2ff9f37e7d619",
            "81a91e59aa05443081034b6769817581",
            "d4c1996013b5405f86b9c9a98a2cbca7",
            "be7063d16a7f41bcacf088e28fdde476",
            "3ff8e41995ab4ee398afe038d2f37a8f",
            "a1ba3b43dd0f496cbe37795c035e5b1c",
            "c9fc9f164d1e4b5087833730316c257a",
            "8ebe20632bee49078a6a088eceda72d1",
            "e026297c85cc4227ad288e10ed68a4cc",
            "159fa7183f2c4fa191ea4bb54cea9e44",
            "53ccb4bb8c1547619943d91cb1320efa",
            "6e84d8f658094a8cbaae2f04a9bc84d8",
            "e8b24c36a7034786b67a0fe42bc80365",
            "42636024877a4178bba1346417d789bb",
            "3408e750a74645b4909fa5d7375611b4",
            "82b1d454272c4b6da3dea7edb23d61ee",
            "2919b50f1b82496eb3fa9bda3d9637de",
            "f01c84055dd54c24a8128a5c682e8c22",
            "ab267e2b041346d29c178148169aa403",
            "bc5410bc57494032ba4f5413cd868c43",
            "54687d5f807540638276e0ef7282c0bf",
            "e0bd12594a4d4cb0b25b4885c88de3e7",
            "7feb7b3092eb4d0184a47d5e84070298",
            "2249bcff552e4049a4ea8ab74aef838b",
            "e54057915be84465aaeb86d9d1931950",
            "0ce306e9235845a387a42b2d6d106dbf",
            "aa13733954274315b9284d9ae9b980cf",
            "b89cd6fd9f674fccb18f9e0c8a3dad40",
            "a2c49c18ca5249f48c5815f9ec091243",
            "e54ae5e3524046afa099f2165eee3c97",
            "0f27c7f9d5a9479caf29006d6fa5d0a2",
            "0b74f539904041a78b719e752934347c",
            "df6dc5e7c0874532befd709d302ebdf1",
            "ad63687dc8434befab14ee5e6955e1df",
            "a1d9fb20f13c4ad283b199db10510170",
            "a5f549e0c9b1411cb99b6da40c274b67",
            "301dc9ae738a444e9c3621c011ba15f0",
            "19773df10a504404bd29bf6dda54af96",
            "d757f8cf051d47859ad42a06856472b9"
          ]
        },
        "id": "1T5NQBBF-NDp",
        "outputId": "3f3489ca-6b4f-4b51-c338-aba8f9c1e2c0"
      },
      "execution_count": null,
      "outputs": [
        {
          "output_type": "stream",
          "name": "stderr",
          "text": [
            "/usr/local/lib/python3.10/dist-packages/huggingface_hub/utils/_auth.py:104: UserWarning: \n",
            "Error while fetching `HF_TOKEN` secret value from your vault: 'Requesting secret HF_TOKEN timed out. Secrets can only be fetched when running from the Colab UI.'.\n",
            "You are not authenticated with the Hugging Face Hub in this notebook.\n",
            "If the error persists, please let us know by opening an issue on GitHub (https://github.com/huggingface/huggingface_hub/issues/new).\n",
            "  warnings.warn(\n"
          ]
        },
        {
          "output_type": "display_data",
          "data": {
            "text/plain": [
              "tokenizer_config.json:   0%|          | 0.00/310 [00:00<?, ?B/s]"
            ],
            "application/vnd.jupyter.widget-view+json": {
              "version_major": 2,
              "version_minor": 0,
              "model_id": "620377a43a6c4baaaade174d843b215f"
            }
          },
          "metadata": {}
        },
        {
          "output_type": "display_data",
          "data": {
            "text/plain": [
              "vocab.txt:   0%|          | 0.00/248k [00:00<?, ?B/s]"
            ],
            "application/vnd.jupyter.widget-view+json": {
              "version_major": 2,
              "version_minor": 0,
              "model_id": "6d56a3e3314342ffa23f2c3abe990a3b"
            }
          },
          "metadata": {}
        },
        {
          "output_type": "display_data",
          "data": {
            "text/plain": [
              "special_tokens_map.json:   0%|          | 0.00/134 [00:00<?, ?B/s]"
            ],
            "application/vnd.jupyter.widget-view+json": {
              "version_major": 2,
              "version_minor": 0,
              "model_id": "272a266c6845441f87ee0227907867db"
            }
          },
          "metadata": {}
        },
        {
          "output_type": "display_data",
          "data": {
            "text/plain": [
              "tokenizer.json:   0%|          | 0.00/486k [00:00<?, ?B/s]"
            ],
            "application/vnd.jupyter.widget-view+json": {
              "version_major": 2,
              "version_minor": 0,
              "model_id": "9d96b72a9065463c894fc62d78b4cfc3"
            }
          },
          "metadata": {}
        },
        {
          "output_type": "display_data",
          "data": {
            "text/plain": [
              "config.json:   0%|          | 0.00/650 [00:00<?, ?B/s]"
            ],
            "application/vnd.jupyter.widget-view+json": {
              "version_major": 2,
              "version_minor": 0,
              "model_id": "c9fc9f164d1e4b5087833730316c257a"
            }
          },
          "metadata": {}
        },
        {
          "output_type": "display_data",
          "data": {
            "text/plain": [
              "pytorch_model.bin:   0%|          | 0.00/440M [00:00<?, ?B/s]"
            ],
            "application/vnd.jupyter.widget-view+json": {
              "version_major": 2,
              "version_minor": 0,
              "model_id": "f01c84055dd54c24a8128a5c682e8c22"
            }
          },
          "metadata": {}
        },
        {
          "output_type": "stream",
          "name": "stderr",
          "text": [
            "Some weights of BertModel were not initialized from the model checkpoint at dccuchile/bert-base-spanish-wwm-uncased and are newly initialized: ['bert.pooler.dense.bias', 'bert.pooler.dense.weight']\n",
            "You should probably TRAIN this model on a down-stream task to be able to use it for predictions and inference.\n"
          ]
        },
        {
          "output_type": "display_data",
          "data": {
            "text/plain": [
              "model.safetensors:   0%|          | 0.00/440M [00:00<?, ?B/s]"
            ],
            "application/vnd.jupyter.widget-view+json": {
              "version_major": 2,
              "version_minor": 0,
              "model_id": "a2c49c18ca5249f48c5815f9ec091243"
            }
          },
          "metadata": {}
        }
      ]
    },
    {
      "cell_type": "code",
      "source": [
        "# Separar conjuntos\n",
        "X_train, X_test, y_train, y_test=train_test_split(X, y, test_size=0.2, random_state=42)\n",
        "\n",
        "# Entrenar modelo\n",
        "clf=LogisticRegression(max_iter=1000)\n",
        "clf.fit(X_train, y_train)\n",
        "\n",
        "# Predicciones\n",
        "y_pred=clf.predict(X_test)\n",
        "\n",
        "# Visualizo las evaluaciones, use las metricas F-1 y Acurrancy\n",
        "print(\"Accuracy:\", accuracy_score(y_test, y_pred))\n",
        "print(\"Reporte de Clasificación:\")\n",
        "print(classification_report(y_test, y_pred, target_names=['Negativo', 'Neutral', 'Positivo']))"
      ],
      "metadata": {
        "id": "SpcqfuxK-RWq",
        "colab": {
          "base_uri": "https://localhost:8080/"
        },
        "outputId": "98c6e853-856d-4e92-f3b1-b5fc336150f7"
      },
      "execution_count": null,
      "outputs": [
        {
          "output_type": "stream",
          "name": "stdout",
          "text": [
            "Accuracy: 0.3974358974358974\n",
            "Reporte de Clasificación:\n",
            "              precision    recall  f1-score   support\n",
            "\n",
            "    Negativo       0.37      0.38      0.38        26\n",
            "     Neutral       0.42      0.39      0.41        28\n",
            "    Positivo       0.40      0.42      0.41        24\n",
            "\n",
            "    accuracy                           0.40        78\n",
            "   macro avg       0.40      0.40      0.40        78\n",
            "weighted avg       0.40      0.40      0.40        78\n",
            "\n"
          ]
        }
      ]
    },
    {
      "cell_type": "code",
      "source": [
        "# Graficos con las predicciones de mi modelo\n",
        "unique, counts=np.unique(y_pred, return_counts=True)\n",
        "print(\"La Etiqueta que asigna el bot es una probabilidad de pertenncia a la clase que indica el mismo\")\n",
        "plt.bar(['Negativo', 'Neutral', 'Positivo'], counts, color=['red', 'gray', 'green'])\n",
        "plt.title(\"Distribución de Predicciones\")\n",
        "plt.show()"
      ],
      "metadata": {
        "id": "vODof5Ee-gx5",
        "colab": {
          "base_uri": "https://localhost:8080/",
          "height": 469
        },
        "outputId": "59845c8f-91d5-469b-b238-7de6e43ece3d"
      },
      "execution_count": null,
      "outputs": [
        {
          "output_type": "stream",
          "name": "stdout",
          "text": [
            "La Etiqueta que asigna el bot es una probabilidad de pertenncia a la clase que indica el mismo\n"
          ]
        },
        {
          "output_type": "display_data",
          "data": {
            "text/plain": [
              "<Figure size 640x480 with 1 Axes>"
            ],
            "image/png": "[encoded data removed]"
          },
          "metadata": {}
        }
      ]
    },
    {
      "cell_type": "code",
      "source": [
        "indices_aleatorios = random.sample(range(len(X_test)), 15)\n",
        "\n",
        "# Mostrar las estrofas seleccionadas y su correspondiente sentimiento\n",
        "print(\"\\nClasificación de 15 estrofas seleccionadas aleatoriamente:\")\n",
        "for i, idx in enumerate(indices_aleatorios, start=1):\n",
        "    estrofa = df.iloc[idx]['estrofa']  # Recuperar la estrofa original\n",
        "    prediccion = y_pred[idx]  # Sentimiento predicho\n",
        "    sentimiento = {1: \"Positivo\", 0: \"Neutral\", -1: \"Negativo\"}[prediccion]  # Asignar etiqueta\n",
        "    print(f\"\\nEstrofa {i}:\\n{estrofa}\\nProbabilidad de Sentimiento: {sentimiento}\")"
      ],
      "metadata": {
        "colab": {
          "base_uri": "https://localhost:8080/"
        },
        "id": "jQcpt68Zrwqo",
        "outputId": "b1a70e0f-ca6a-45df-ce67-b027e3e52484"
      },
      "execution_count": null,
      "outputs": [
        {
          "output_type": "stream",
          "name": "stdout",
          "text": [
            "\n",
            "Clasificación de 15 estrofas seleccionadas aleatoriamente:\n",
            "\n",
            "Estrofa 1:\n",
            "Ansí empezaron mis males\n",
            "lo mesmo que los de tantos;\n",
            "si gustan... en otros cantos\n",
            "les diré lo que he sufrido.\n",
            "Después que uno está perdido\n",
            "no lo salvan ni los santos.\n",
            "Probabilidad de Sentimiento: Neutral\n",
            "\n",
            "Estrofa 2:\n",
            "con el cabresto en la mano.\n",
            "Y mientras domaban unos,\n",
            "otros al campo salían,\n",
            "y la hacienda recogían,\n",
            "las manadas repuntaban,\n",
            "y ansí sin sentir pasaban\n",
            "Probabilidad de Sentimiento: Positivo\n",
            "\n",
            "Estrofa 3:\n",
            "ni quema mi frente el sol.\n",
            "Nací como nace el peje\n",
            "en el fondo de la mar;\n",
            "naides me puede quitar\n",
            "aquéllo que Dios me dio:\n",
            "lo que al mundo truje yo\n",
            "Probabilidad de Sentimiento: Positivo\n",
            "\n",
            "Estrofa 4:\n",
            "Mi gala en las pulperías\n",
            "era, cuando había más gente,\n",
            "ponerme medio caliente,\n",
            "pues cuando puntiao me encuentro\n",
            "me salen coplas de adentro\n",
            "como agua de la virtiente.\n",
            "Probabilidad de Sentimiento: Neutral\n",
            "\n",
            "Estrofa 5:\n",
            "se hacía astillas el bagual.\n",
            "Y allí el gaucho inteligente\n",
            "en cuanto el potro enriendó,\n",
            "los cueros le acomodó\n",
            "y se le sentó en seguida,\n",
            "que el hombre muestra en la vida\n",
            "Probabilidad de Sentimiento: Negativo\n",
            "\n",
            "Estrofa 6:\n",
            "las fáinas del día anterior.\n",
            "Ricuerdo ¡qué maravilla!\n",
            "cómo andaba la gauchada,\n",
            "siempre alegre y bien montada\n",
            "y dispuesta pa el trabajo;\n",
            "pero hoy en el día... ¡barajo!\n",
            "Probabilidad de Sentimiento: Negativo\n",
            "\n",
            "Estrofa 7:\n",
            "A veces decía al volver\n",
            "del campo la descubierta\n",
            "que estuviéramos alerta,\n",
            "que andaba adentro la indiada;\n",
            "porque había una rastrillada\n",
            "o estaba una yegua muerta.\n",
            "Probabilidad de Sentimiento: Neutral\n",
            "\n",
            "Estrofa 8:\n",
            "como el sufrir y el llorar.\n",
            "Viene el hombre ciego al mundo,\n",
            "cuartiándolo la esperanza,\n",
            "y a poco andar ya lo alcanzan\n",
            "las desgracias a empujones;\n",
            "¡la pucha, que trae liciones\n",
            "Probabilidad de Sentimiento: Positivo\n",
            "\n",
            "Estrofa 9:\n",
            "yo también quiero cantar.\n",
            "Cantando me he de morir,\n",
            "cantando me han de enterrar,\n",
            "y cantando he de llegar\n",
            "al pie del Eterno Padre;\n",
            "dende el vientre de mi madre\n",
            "Probabilidad de Sentimiento: Positivo\n",
            "\n",
            "Estrofa 10:\n",
            "¡Y qué indios, ni qué servicio,\n",
            "si allí no había ni cuartel!\n",
            "Nos mandaba el coronel\n",
            "a trabajar en sus chacras,\n",
            "y dejábamos las vacas\n",
            "que las llevara el infiel.\n",
            "Probabilidad de Sentimiento: Negativo\n",
            "\n",
            "Estrofa 11:\n",
            "salía haciéndose gambetas.\n",
            "¡Ah tiempos!... ¡Si era un orgullo\n",
            "ver jinetiar un paisano!\n",
            "Cuando era gaucho baquiano,\n",
            "aunque el potro se boliase,\n",
            "no había uno que no parase\n",
            "Probabilidad de Sentimiento: Neutral\n",
            "\n",
            "Estrofa 12:\n",
            "el tiempo con sus mudanzas!\n",
            "Yo he conocido esta tierra\n",
            "en que el paisano vivía\n",
            "y su ranchito tenía\n",
            "y sus hijos y mujer...\n",
            "Era una delicia el ver\n",
            "Probabilidad de Sentimiento: Negativo\n",
            "\n",
            "Estrofa 13:\n",
            "Formaron un contingente\n",
            "con los que en el baile arriaron;\n",
            "con otros nos mesturaron\n",
            "que habían agarrao también:\n",
            "las cosas que aquí se ven\n",
            "ni los diablos las pensaron.\n",
            "Probabilidad de Sentimiento: Negativo\n",
            "\n",
            "Estrofa 14:\n",
            "se cansaron en partidas.\n",
            "Mas ande otro criollo pasa\n",
            "Martín Fierro ha de pasar;\n",
            "nada lo hace recular,\n",
            "ni las fantasmas lo espantan,\n",
            "y dende que todos cantan\n",
            "Probabilidad de Sentimiento: Positivo\n",
            "\n",
            "Estrofa 15:\n",
            "En la lista de la tarde\n",
            "el jefe nos cantó el punto,\n",
            "diciendo: Quinientos juntos\n",
            "llevará el que se resierte;\n",
            "lo haremos pitar del juerte;\n",
            "más bien dése por dijunto.\n",
            "Probabilidad de Sentimiento: Positivo\n"
          ]
        }
      ]
    }
  ]
}