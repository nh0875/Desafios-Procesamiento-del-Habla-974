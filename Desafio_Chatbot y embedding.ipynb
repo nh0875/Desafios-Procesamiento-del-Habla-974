{
  "cells": [
    {
      "cell_type": "markdown",
      "metadata": {
        "id": "view-in-github",
        "colab_type": "text"
      },
      "source": [
        "<a href=\"https://colab.research.google.com/github/nh0875/Desafios-Procesamiento-del-Habla-974/blob/main/Desafio_Chatbot%20y%20embedding.ipynb\" target=\"_parent\"><img src=\"https://colab.research.google.com/assets/colab-badge.svg\" alt=\"Open In Colab\"/></a>"
      ]
    },
    {
      "cell_type": "markdown",
      "metadata": {
        "id": "9FdzQV__PTcB"
      },
      "source": [
        "# Tony \"El chatbot coach\" (Chatbot con TFIDF/Similitud del coseno)\n",
        "\n",
        "Voy a utilizar un chatbot con un motor de busqueda por similitud, ya que mi idea es que el chatbot sirva para responder preguntas comunes sobre que acciones tomar en un partido de basquet orientado a personas que no saben jugarlo o que estan comenzando a hacerlo, que hacer en situaciones especificas como tambien situaciones generales de un partido, voy a ayudarme de Gemini para poder abarcar a la mayoria de posibles preguntas que podrian llegarle al bot, como tambien las respuestas que deberia devolver mi bot, se va a llamar **\"Tony\"**"
      ]
    },
    {
      "cell_type": "code",
      "execution_count": null,
      "metadata": {
        "id": "CReIz0ISj75s"
      },
      "outputs": [],
      "source": [
        "from sklearn.feature_extraction.text import TfidfVectorizer\n",
        "from sklearn.metrics.pairwise import cosine_similarity\n",
        "questions = [\n",
        "    \"What is the difference between a personal foul and a technical foul?\",\n",
        "    \"What is a three-second violation, and how is it applied in the restricted area?\",\n",
        "    \"What is the difference between a block and a charge?\",\n",
        "    \"What is a screen, and how is it used in offensive play?\",\n",
        "    \"What is traveling, and how is it penalized?\",\n",
        "    \"What is double dribbling, and how can it be avoided?\",\n",
        "    \"What is the difference between a free throw and a baseline throw-in?\",\n",
        "    \"What is a defensive switch, and what are the most common types?\",\n",
        "    \"What is a 24-second violation, and how is it applied in the game?\",\n",
        "    \"What is the importance of ball rotation in offensive play?\",\n",
        "    \"If my team is losing by many points at the end of the game, what should we do?\",\n",
        "    \"If I have the ball and am being guarded by a very tall defender, what can I do?\",\n",
        "    \"If a teammate takes a three-point shot and misses, what should I do?\",\n",
        "    \"If I’m defending a player much faster than me, what strategy can I use?\",\n",
        "    \"If I find myself alone under the hoop, what type of shot should I attempt?\",\n",
        "    \"How can I improve my shooting?\",\n",
        "    \"What can I do to improve my ball handling?\",\n",
        "    \"How can I improve my defense?\",\n",
        "    \"What is a pick-and-roll, and how can I execute it?\",\n",
        "    \"What is a fast break, and how can I participate in it?\",\n",
        "    \"How can I improve my teamwork?\",\n",
        "    \"What is a press defense, and how can I play against it?\",\n",
        "    \"How can I stay motivated to keep practicing basketball?\"\n",
        "]\n",
        "\n",
        "answers = [\n",
        "    \"A personal foul is committed against a player and usually involves physical contact. A technical foul is given for unsportsmanlike actions or protests against the referees.\",\n",
        "    \"An offensive player cannot stay in the opponent's restricted area for more than three seconds without dribbling or attempting a shot.\",\n",
        "    \"A block is a legal action where a defender prevents the progress of an attacker without committing a foul. A charge occurs when the defender moves into the attacker’s path, illegally stopping their progress.\",\n",
        "    \"A screen is an action where a player positions themselves near a defender to obstruct their path, allowing a teammate to receive a pass unguarded.\",\n",
        "    \"Traveling is a violation that occurs when a player takes more than one step with the ball in hand without dribbling.\",\n",
        "    \"Double dribbling occurs when a player stops dribbling and then resumes dribbling with the same hand. To avoid it, keep the ball in constant motion or pass it to a teammate.\",\n",
        "    \"A free throw is awarded as a penalty for a foul and is taken from the free-throw line. A baseline throw-in happens when the ball goes out of bounds on the baseline, and the opposing team gains possession.\",\n",
        "    \"A defensive switch is a change in a team's defensive strategy. The most common types are man-to-man defense and zone defense.\",\n",
        "    \"A team has 24 seconds to make a shot once they gain possession of the ball. If time runs out without a shot, it results in a violation, and possession goes to the opposing team.\",\n",
        "    \"Ball rotation is essential to keep the defense disorganized, create open shooting opportunities, and prevent a single player from bearing the scoring responsibility.\",\n",
        "    \"In this situation, it's important to stay calm and continue playing as a team. You can attempt to force turnovers, take three-point shots to close the gap, and avoid committing unnecessary fouls.\",\n",
        "    \"You can try to shoot, pass the ball to an open teammate, or use a fake move to create space and score.\",\n",
        "    \"You should be ready for the rebound, as the ball is likely to bounce into the area. If you get it, try to take another shot or pass it to a better-positioned teammate.\",\n",
        "    \"Maintain a proper distance, use your arms to prevent easy dribbling, and try to anticipate their movements.\",\n",
        "    \"If you're alone under the hoop, it's best to attempt an easy shot, such as a layup or a hook.\",\n",
        "    \"To improve your shooting, practice regularly, focus on proper technique, and work on your upper body strength.\",\n",
        "    \"Practice dribbling with both hands, at different speeds, and in tight spaces. You can also perform coordination drills with the ball.\",\n",
        "    \"To improve your defense, work on agility, strength, and the ability to anticipate your opponent's movements.\",\n",
        "    \"A pick-and-roll is a play where a player sets a screen (pick) for a teammate who is dribbling, aiming to create a numerical advantage.\",\n",
        "    \"A fast break is a quick attack after a defensive rebound or interception. To participate in a fast break, run quickly towards the opposing basket and look for a pass to finish the play.\",\n",
        "    \"Communication, trust in your teammates, and a willingness to share the ball are fundamental for good teamwork.\",\n",
        "    \"A press defense is when players spread out over the court instead of guarding specific opponents. To counter a press, move the ball quickly and look for open shots.\",\n",
        "    \"Set realistic goals, find training partners, join a league, and celebrate your achievements.\"\n",
        "]\n",
        "\n",
        "vectorizer = TfidfVectorizer()\n",
        "tfidf_matrix = vectorizer.fit_transform(questions)\n",
        "\n",
        "def responder(consut_):\n",
        "    consulta_vec = vectorizer.transform([consut_])\n",
        "    similitudes = cosine_similarity(consulta_vec, tfidf_matrix).flatten()\n",
        "    indice_mejor_coincidencia = similitudes.argmax()\n",
        "    return answers[indice_mejor_coincidencia]\n"
      ]
    },
    {
      "cell_type": "code",
      "execution_count": null,
      "metadata": {
        "colab": {
          "base_uri": "https://localhost:8080/",
          "height": 53
        },
        "id": "foqaZ1FN583i",
        "outputId": "695b4747-9d00-487a-dbcb-3356772b7e0a"
      },
      "outputs": [
        {
          "name": "stdout",
          "output_type": "stream",
          "text": [
            "Write your question about Basketball: What is a personal foul?\n"
          ]
        },
        {
          "output_type": "execute_result",
          "data": {
            "text/plain": [
              "'A personal foul is committed against a player and usually involves physical contact. A technical foul is given for unsportsmanlike actions or protests against the referees.'"
            ],
            "application/vnd.google.colaboratory.intrinsic+json": {
              "type": "string"
            }
          },
          "metadata": {},
          "execution_count": 4
        }
      ],
      "source": [
        "consulta = str(input(\"Write your question about Basketball: \"))\n",
        "responder(consulta)"
      ]
    },
    {
      "cell_type": "markdown",
      "metadata": {
        "id": "J13v7T5wc9Lg"
      },
      "source": [
        "# Categorizador de Reseñas (Chatbot con Embeddings, **Modelo FastText** )\n",
        "\n",
        "Es un bot el cual clasifica reseñas de teclados basandose en palabras clave para determinar si la reseña es positiva o negativa\n",
        "\n"
      ]
    },
    {
      "cell_type": "code",
      "execution_count": null,
      "metadata": {
        "collapsed": true,
        "id": "rjdKtGiJgsbM",
        "colab": {
          "base_uri": "https://localhost:8080/"
        },
        "outputId": "1991bc69-8032-4632-fce7-994a4392609b"
      },
      "outputs": [
        {
          "output_type": "stream",
          "name": "stdout",
          "text": [
            "Collecting pymupdf\n",
            "  Downloading PyMuPDF-1.24.14-cp39-abi3-manylinux2014_x86_64.manylinux_2_17_x86_64.whl.metadata (3.4 kB)\n",
            "Downloading PyMuPDF-1.24.14-cp39-abi3-manylinux2014_x86_64.manylinux_2_17_x86_64.whl (19.8 MB)\n",
            "\u001b[2K   \u001b[90m━━━━━━━━━━━━━━━━━━━━━━━━━━━━━━━━━━━━━━━━\u001b[0m \u001b[32m19.8/19.8 MB\u001b[0m \u001b[31m22.0 MB/s\u001b[0m eta \u001b[36m0:00:00\u001b[0m\n",
            "\u001b[?25hInstalling collected packages: pymupdf\n",
            "Successfully installed pymupdf-1.24.14\n"
          ]
        }
      ],
      "source": [
        "!pip install pymupdf SpaCy"
      ]
    },
    {
      "cell_type": "code",
      "execution_count": null,
      "metadata": {
        "id": "dKIuBuncldnA"
      },
      "outputs": [],
      "source": [
        "import os\n",
        "import random\n",
        "from transformers import AutoTokenizer, AutoModelForSequenceClassification\n",
        "import torch\n",
        "\n",
        "# Cargar un modelo especializado en análisis de sentimientos\n",
        "tokenizer = AutoTokenizer.from_pretrained(\"nlptown/bert-base-multilingual-uncased-sentiment\")\n",
        "model = AutoModelForSequenceClassification.from_pretrained(\"nlptown/bert-base-multilingual-uncased-sentiment\")\n",
        "\n",
        "# Función para clasificar opiniones\n",
        "def clasificar_opinion(opinion):\n",
        "    # Tokenizar el texto\n",
        "    inputs = tokenizer(opinion, return_tensors=\"pt\", truncation=True, padding=True, max_length=512)\n",
        "\n",
        "    # Hacer predicción\n",
        "    with torch.no_grad():\n",
        "        outputs = model(**inputs)\n",
        "        logits = outputs.logits\n",
        "        prediccion = torch.argmax(logits, dim=1).item()\n",
        "\n",
        "    # Interpretar la predicción\n",
        "    niveles = [\"Very Negative\", \"Negative\", \"Neutral\", \"Positive\", \"Very Positive\"]\n",
        "    return niveles[prediccion]\n",
        "\n",
        "# Cargar opiniones desde un archivo de texto\n",
        "def cargar_opiniones(archivo):\n",
        "    with open(archivo, 'r', encoding='utf-8') as f:\n",
        "        opiniones = [line.strip() for line in f if line.strip()]\n",
        "    return opiniones\n",
        "\n",
        "# Clasificar 30 opiniones aleatorias\n",
        "def clasificar_aleatorias(archivo_opiniones, cantidad=30):\n",
        "    opiniones = cargar_opiniones(archivo_opiniones)\n",
        "\n",
        "    # Seleccionar 30 opiniones aleatorias\n",
        "    if len(opiniones) < cantidad:\n",
        "        print(f\"El archivo contiene menos de {cantidad} opiniones. Se clasificarán todas.\")\n",
        "        muestras = opiniones\n",
        "    else:\n",
        "        muestras = random.sample(opiniones, cantidad)\n",
        "\n",
        "    for i, opinion in enumerate(muestras, start=1):\n",
        "        clasificacion = clasificar_opinion(opinion)\n",
        "        print(f\"Opinión {i}: {opinion}\")\n",
        "        print(f\"Clasificación: {clasificacion}\\n\")"
      ]
    },
    {
      "cell_type": "code",
      "source": [
        "\n",
        "# Archivo de opiniones\n",
        "archivo_opiniones = '/content/Untitled document.txt'  # Cambia la ruta si usas otro archivo\n",
        "\n",
        "# Ejecutar el chatbot para clasificar opiniones aleatorias\n",
        "try:\n",
        "    clasificar_aleatorias(archivo_opiniones)\n",
        "except Exception as e:\n",
        "    print(f\"Error procesando las opiniones: {e}\")\n"
      ],
      "metadata": {
        "id": "8o7gbP9c7zCf",
        "colab": {
          "base_uri": "https://localhost:8080/"
        },
        "outputId": "c493469a-55b4-423a-9ff6-277a9a32db9c"
      },
      "execution_count": null,
      "outputs": [
        {
          "output_type": "stream",
          "name": "stdout",
          "text": [
            "Opinión 1: \"It lacks backlighting, which is a major drawback.\"\n",
            "Clasificación: Neutral\n",
            "\n",
            "Opinión 2: \"It lacks extra features; it’s very basic and subpar.\"\n",
            "Clasificación: Neutral\n",
            "\n",
            "Opinión 3: \"The backlighting is too weak, barely visible.\"\n",
            "Clasificación: Negative\n",
            "\n",
            "Opinión 4: \"I don’t like it; the keys are uncomfortable, and the noise is annoying.\"\n",
            "Clasificación: Negative\n",
            "\n",
            "Opinión 5: \"Works perfectly with my laptop; highly recommended.\"\n",
            "Clasificación: Very Positive\n",
            "\n",
            "Opinión 6: \"Good keyboard, but I wouldn’t recommend it for gamers.\"\n",
            "Clasificación: Neutral\n",
            "\n",
            "Opinión 7: \"It’s functional but could improve the key quality.\"\n",
            "Clasificación: Neutral\n",
            "\n",
            "Opinión 8: \"It serves its purpose, but I expected more.\"\n",
            "Clasificación: Neutral\n",
            "\n",
            "Opinión 9: \"Excellent value for money; I would buy it again.\"\n",
            "Clasificación: Very Positive\n",
            "\n",
            "Opinión 10: \"The keys are not accurate; many presses aren’t registered.\"\n",
            "Clasificación: Negative\n",
            "\n",
            "Opinión 11: \"The keyboard lacks multimedia functions; it’s very basic.\"\n",
            "Clasificación: Neutral\n",
            "\n",
            "Opinión 12: \"The keys feel like poor quality; it didn’t last at all.\"\n",
            "Clasificación: Very Negative\n",
            "\n",
            "Opinión 13: \"The build quality is awful; it feels cheap.\"\n",
            "Clasificación: Very Negative\n",
            "\n",
            "Opinión 14: \"It’s not bad, but it doesn’t impress me either.\"\n",
            "Clasificación: Neutral\n",
            "\n",
            "Opinión 15: \"The key quality is terrible; they feel fragile.\"\n",
            "Clasificación: Very Negative\n",
            "\n",
            "Opinión 16: \"The keyboard is very slow to type on, with a lot of lag.\"\n",
            "Clasificación: Negative\n",
            "\n",
            "Opinión 17: \"I had connectivity issues; it doesn’t always work well.\"\n",
            "Clasificación: Negative\n",
            "\n",
            "Opinión 18: \"The keys stick and don’t respond properly.\"\n",
            "Clasificación: Very Negative\n",
            "\n",
            "Opinión 19: \"The design is not ergonomic, and it caused pain in my hands.\"\n",
            "Clasificación: Negative\n",
            "\n",
            "Opinión 20: \"This keyboard isn’t suitable for gaming; it has too much lag.\"\n",
            "Clasificación: Negative\n",
            "\n",
            "Opinión 21: \"Too small for comfortable use; poor design.\"\n",
            "Clasificación: Negative\n",
            "\n",
            "Opinión 22: \"The keys don’t have good travel; it’s not comfortable for me.\"\n",
            "Clasificación: Negative\n",
            "\n",
            "Opinión 23: \"Very easy to use; quick and simple installation.\"\n",
            "Clasificación: Very Positive\n",
            "\n",
            "Opinión 24: \"Not worth the price; there are much better options available.\"\n",
            "Clasificación: Negative\n",
            "\n",
            "Opinión 25: \"The key quality is impressive; they feel sturdy.\"\n",
            "Clasificación: Very Positive\n",
            "\n",
            "Opinión 26: \"This keyboard is simply bad; I don’t recommend it at all.\"\n",
            "Clasificación: Very Negative\n",
            "\n",
            "Opinión 27: \"The keyboard is too small; I don't feel comfortable using it.\"\n",
            "Clasificación: Negative\n",
            "\n",
            "Opinión 28: \"Very uncomfortable to use; the keys have poor tactile feedback.\"\n",
            "Clasificación: Negative\n",
            "\n",
            "Opinión 29: \"High-quality keyboard; it feels premium to the touch.\"\n",
            "Clasificación: Very Positive\n",
            "\n",
            "Opinión 30: \"The keys are too close together; not comfortable for fast typing.\"\n",
            "Clasificación: Negative\n",
            "\n"
          ]
        }
      ]
    },
    {
      "cell_type": "code",
      "source": [],
      "metadata": {
        "id": "KJ6x7HeeBaRV"
      },
      "execution_count": null,
      "outputs": []
    }
  ],
  "metadata": {
    "colab": {
      "provenance": [],
      "authorship_tag": "ABX9TyM1KXzg7WfITULrRhynPp2b",
      "include_colab_link": true
    },
    "kernelspec": {
      "display_name": "Python 3",
      "name": "python3"
    },
    "language_info": {
      "name": "python"
    }
  },
  "nbformat": 4,
  "nbformat_minor": 0
}