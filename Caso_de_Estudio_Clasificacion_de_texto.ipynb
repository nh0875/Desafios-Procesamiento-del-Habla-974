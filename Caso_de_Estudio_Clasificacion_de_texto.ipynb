{
  "nbformat": 4,
  "nbformat_minor": 0,
  "metadata": {
    "colab": {
      "provenance": [],
      "authorship_tag": "ABX9TyPaRvsC43t0uIIxxnIOzx5d",
      "include_colab_link": true
    },
    "kernelspec": {
      "name": "python3",
      "display_name": "Python 3"
    },
    "language_info": {
      "name": "python"
    }
  },
  "cells": [
    {
      "cell_type": "markdown",
      "metadata": {
        "id": "view-in-github",
        "colab_type": "text"
      },
      "source": [
        "<a href=\"https://colab.research.google.com/github/nh0875/Desafios-Procesamiento-del-Habla-974/blob/main/Caso_de_Estudio_Clasificacion_de_texto.ipynb\" target=\"_parent\"><img src=\"https://colab.research.google.com/assets/colab-badge.svg\" alt=\"Open In Colab\"/></a>"
      ]
    },
    {
      "cell_type": "markdown",
      "source": [
        "# **Ejercicio 1)**\n",
        "\n",
        "El data set usado es una recopilacion de opiniones sobre peliculas, con sentimientos polares, contiene 50.000 reviews (25.000 de entreanamiento y 25.000 de prueba) una mitad positivas (opiniones de peliculas que dieron 7=<10) y otra mitad negativa (opiniones de peliculas que dieron 4=>10),ademas de eso tiene 50.000 opiniones sin etiqueta para realizar modelos de aprendizaje no supervisado (aca estan reviews negativas,neutras y positivas),en general no tiene muchas opiniones que tratem de la misma pelicula (30 max) ya que podrian estar relacionadas"
      ],
      "metadata": {
        "id": "3HSWcfdysqQs"
      }
    },
    {
      "cell_type": "markdown",
      "source": [
        "#**Ejercicio 2)**\n",
        "\n",
        "Intente correr el codigo desde mi computadora personal pero no me fue muy bien, mediante Visual Studio Code, primero descargue las librerias despues probe el codigo y para descargar el dataset estuvo 15-20 minutos y no hubo caso, antes de seguir esperando a que el codigo descargara el dataset me pase a Google Colabs y mi experiencia con el código en Colabs fue excelente ya que no tuve que editar nada del código y corrió sin ningún problema."
      ],
      "metadata": {
        "id": "5Gj2XwvUAuk9"
      }
    },
    {
      "cell_type": "markdown",
      "source": [
        "# **Ejercicio 3)**\n",
        "\n",
        "El primer paso de es una partición del datasets en tres grupos (entrenamiento , validación y prueba), después estandariza los datos eliminando etiquetas de html y pasando toda minúsculas, como último paso vectoriza el texto transformando las palabras en índices numéricos para que el modelo pueda manejar los datos de manera más eficiente y asertiva\n",
        "\n",
        "\n",
        "Esta fue la salida de la evaluacion del modelo\n",
        "![image.png](data:image/png;base64,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)"
      ],
      "metadata": {
        "id": "aIXt_B1xGCdC"
      }
    },
    {
      "cell_type": "markdown",
      "source": [
        "# **Ejercicio 4)**\n",
        "\n",
        "La métrica currency está bien está bien aplicada ya que los datos están divididos en clases muy balanceadas es decir no hay grandes diferencias entre opiniones positivas como negativas,  creo que la métrica es la ideal ya que otra métrica hubiera desviado los resultados del modelo por ejemplo haber ocupado puntuación F-1 no hubiera sido lo óptimo ya que los positivos no eran menos frecuentes que los negativos, como dije recién eran tanto negativos como positivos en la misma medida"
      ],
      "metadata": {
        "id": "04aBXfpzGSEQ"
      }
    },
    {
      "cell_type": "markdown",
      "source": [
        "# **Ejercicio 5)**\n",
        "\n",
        " En el pre procesamiento de Data en el apartado del código donde quita las etiquetas html y convierte las letras en minúscula me llamó la atención que el código hiciera eso con todas las letras no sabía de que si hay palabras que están escritas con mayúsculas alteran los resultados del modelo,  yo pensaba de que eso no afectaba a la hora de convertir los datos\n"
      ],
      "metadata": {
        "id": "2KmZvvNrMTu5"
      }
    },
    {
      "cell_type": "markdown",
      "source": [
        "# **Ejercicio 6)**\n",
        "\n",
        "\n",
        "Mi duda es si conviene aplicar más de una métrica evolución a un modelo por ejemplo aplicar primero mse y luego a correnzy o inversa saber si conviene realmente o no"
      ],
      "metadata": {
        "id": "ogtHyDjLL_qe"
      }
    },
    {
      "cell_type": "markdown",
      "metadata": {
        "id": "d5brKL2qsbkf"
      },
      "source": [
        "## Setup"
      ]
    },
    {
      "cell_type": "code",
      "execution_count": 3,
      "metadata": {
        "id": "Zacc36xPsbkf"
      },
      "outputs": [],
      "source": [
        "import os\n",
        "\n",
        "os.environ[\"KERAS_BACKEND\"] = \"tensorflow\"\n",
        "\n",
        "import keras\n",
        "import tensorflow as tf\n",
        "import numpy as np\n",
        "from keras import layers"
      ]
    },
    {
      "cell_type": "markdown",
      "metadata": {
        "id": "VI5KspBKsbkf"
      },
      "source": [
        "## Load the data: IMDB movie review sentiment classification\n",
        "\n",
        "Let's download the data and inspect its structure."
      ]
    },
    {
      "cell_type": "code",
      "execution_count": 4,
      "metadata": {
        "id": "dR_5WLD8sbkg",
        "colab": {
          "base_uri": "https://localhost:8080/"
        },
        "outputId": "d9021d92-202b-4780-f8ed-1a711805ff38"
      },
      "outputs": [
        {
          "output_type": "stream",
          "name": "stdout",
          "text": [
            "  % Total    % Received % Xferd  Average Speed   Time    Time     Time  Current\n",
            "                                 Dload  Upload   Total   Spent    Left  Speed\n",
            "100 80.2M  100 80.2M    0     0  2669k      0  0:00:30  0:00:30 --:--:-- 2606k\n"
          ]
        }
      ],
      "source": [
        "!curl -O https://ai.stanford.edu/~amaas/data/sentiment/aclImdb_v1.tar.gz\n",
        "!tar -xf aclImdb_v1.tar.gz"
      ]
    },
    {
      "cell_type": "markdown",
      "metadata": {
        "id": "bRgx73EVsbkg"
      },
      "source": [
        "The `aclImdb` folder contains a `train` and `test` subfolder:"
      ]
    },
    {
      "cell_type": "code",
      "execution_count": 6,
      "metadata": {
        "id": "RnXm9buysbkg",
        "colab": {
          "base_uri": "https://localhost:8080/"
        },
        "outputId": "4caa18dd-f45f-489e-de5a-93c13128b232"
      },
      "outputs": [
        {
          "output_type": "stream",
          "name": "stdout",
          "text": [
            "imdbEr.txt  imdb.vocab\tREADME\ttest  train\n"
          ]
        }
      ],
      "source": [
        "!ls aclImdb"
      ]
    },
    {
      "cell_type": "code",
      "execution_count": 19,
      "metadata": {
        "id": "-3izUFy_sbkg",
        "colab": {
          "base_uri": "https://localhost:8080/"
        },
        "outputId": "6952d7c1-1e6a-41f8-c32e-32fa515ed401"
      },
      "outputs": [
        {
          "output_type": "stream",
          "name": "stdout",
          "text": [
            "labeledBow.feat  neg  pos  urls_neg.txt  urls_pos.txt\n"
          ]
        }
      ],
      "source": [
        "!ls aclImdb/test"
      ]
    },
    {
      "cell_type": "code",
      "execution_count": 20,
      "metadata": {
        "id": "VJeIOjK4sbkg",
        "colab": {
          "base_uri": "https://localhost:8080/"
        },
        "outputId": "f454efb1-a772-4247-8431-87b8032d6c93"
      },
      "outputs": [
        {
          "output_type": "stream",
          "name": "stdout",
          "text": [
            "labeledBow.feat  neg  pos  unsupBow.feat  urls_neg.txt\turls_pos.txt  urls_unsup.txt\n"
          ]
        }
      ],
      "source": [
        "!ls aclImdb/train"
      ]
    },
    {
      "cell_type": "markdown",
      "metadata": {
        "id": "F5Tlxustsbkg"
      },
      "source": [
        "The `aclImdb/train/pos` and `aclImdb/train/neg` folders contain text files, each of\n",
        " which represents one review (either positive or negative):"
      ]
    },
    {
      "cell_type": "code",
      "execution_count": 9,
      "metadata": {
        "id": "y83pL_RUsbkg",
        "colab": {
          "base_uri": "https://localhost:8080/"
        },
        "outputId": "1633a4e0-8d4c-4d47-b83d-cf61b750f535"
      },
      "outputs": [
        {
          "output_type": "stream",
          "name": "stdout",
          "text": [
            "Being an Austrian myself this has been a straight knock in my face. Fortunately I don't live nowhere near the place where this movie takes place but unfortunately it portrays everything that the rest of Austria hates about Viennese people (or people close to that region). And it is very easy to read that this is exactly the directors intention: to let your head sink into your hands and say \"Oh my god, how can THAT be possible!\". No, not with me, the (in my opinion) totally exaggerated uncensored swinger club scene is not necessary, I watch porn, sure, but in this context I was rather disgusted than put in the right context.<br /><br />This movie tells a story about how misled people who suffer from lack of education or bad company try to survive and live in a world of redundancy and boring horizons. A girl who is treated like a whore by her super-jealous boyfriend (and still keeps coming back), a female teacher who discovers her masochism by putting the life of her super-cruel \"lover\" on the line, an old couple who has an almost mathematical daily cycle (she is the \"official replacement\" of his ex wife), a couple that has just divorced and has the ex husband suffer under the acts of his former wife obviously having a relationship with her masseuse and finally a crazy hitchhiker who asks her drivers the most unusual questions and stretches their nerves by just being super-annoying.<br /><br />After having seen it you feel almost nothing. You're not even shocked, sad, depressed or feel like doing anything... Maybe that's why I gave it 7 points, it made me react in a way I never reacted before. If that's good or bad is up to you!"
          ]
        }
      ],
      "source": [
        "!cat aclImdb/train/pos/6248_7.txt"
      ]
    },
    {
      "cell_type": "markdown",
      "metadata": {
        "id": "bckvHndwsbkg"
      },
      "source": [
        "We are only interested in the `pos` and `neg` subfolders, so let's delete the other subfolder that has text files in it:"
      ]
    },
    {
      "cell_type": "code",
      "execution_count": 10,
      "metadata": {
        "id": "ZAFRbQHwsbkg"
      },
      "outputs": [],
      "source": [
        "!rm -r aclImdb/train/unsup"
      ]
    },
    {
      "cell_type": "markdown",
      "metadata": {
        "id": "BFRPyLdtsbkh"
      },
      "source": [
        "You can use the utility `keras.utils.text_dataset_from_directory` to\n",
        "generate a labeled `tf.data.Dataset` object from a set of text files on disk filed\n",
        " into class-specific folders.\n",
        "\n",
        "Let's use it to generate the training, validation, and test datasets. The validation\n",
        "and training datasets are generated from two subsets of the `train` directory, with 20%\n",
        "of samples going to the validation dataset and 80% going to the training dataset.\n",
        "\n",
        "Having a validation dataset in addition to the test dataset is useful for tuning\n",
        "hyperparameters, such as the model architecture, for which the test dataset should not\n",
        "be used.\n",
        "\n",
        "Before putting the model out into the real world however, it should be retrained using all\n",
        "available training data (without creating a validation dataset), so its performance is maximized.\n",
        "\n",
        "When using the `validation_split` & `subset` arguments, make sure to either specify a\n",
        "random seed, or to pass `shuffle=False`, so that the validation & training splits you\n",
        "get have no overlap."
      ]
    },
    {
      "cell_type": "code",
      "execution_count": 11,
      "metadata": {
        "id": "bCdwvMsPsbkh",
        "colab": {
          "base_uri": "https://localhost:8080/"
        },
        "outputId": "0f8f3bd4-643d-4af5-f60e-b606170bebfe"
      },
      "outputs": [
        {
          "output_type": "stream",
          "name": "stdout",
          "text": [
            "Found 25000 files belonging to 2 classes.\n",
            "Using 20000 files for training.\n",
            "Found 25000 files belonging to 2 classes.\n",
            "Using 5000 files for validation.\n",
            "Found 25000 files belonging to 2 classes.\n",
            "Number of batches in raw_train_ds: 625\n",
            "Number of batches in raw_val_ds: 157\n",
            "Number of batches in raw_test_ds: 782\n"
          ]
        }
      ],
      "source": [
        "batch_size = 32\n",
        "raw_train_ds = keras.utils.text_dataset_from_directory(\n",
        "    \"aclImdb/train\",\n",
        "    batch_size=batch_size,\n",
        "    validation_split=0.2,\n",
        "    subset=\"training\",\n",
        "    seed=1337,\n",
        ")\n",
        "raw_val_ds = keras.utils.text_dataset_from_directory(\n",
        "    \"aclImdb/train\",\n",
        "    batch_size=batch_size,\n",
        "    validation_split=0.2,\n",
        "    subset=\"validation\",\n",
        "    seed=1337,\n",
        ")\n",
        "raw_test_ds = keras.utils.text_dataset_from_directory(\n",
        "    \"aclImdb/test\", batch_size=batch_size\n",
        ")\n",
        "\n",
        "print(f\"Number of batches in raw_train_ds: {raw_train_ds.cardinality()}\")\n",
        "print(f\"Number of batches in raw_val_ds: {raw_val_ds.cardinality()}\")\n",
        "print(f\"Number of batches in raw_test_ds: {raw_test_ds.cardinality()}\")"
      ]
    },
    {
      "cell_type": "markdown",
      "metadata": {
        "id": "lMyJA6QFsbkh"
      },
      "source": [
        "Let's preview a few samples:"
      ]
    },
    {
      "cell_type": "code",
      "execution_count": 12,
      "metadata": {
        "id": "Dt_ZER61sbkh",
        "colab": {
          "base_uri": "https://localhost:8080/"
        },
        "outputId": "8d32cbc2-42ac-4aa3-af4a-21490da170ee"
      },
      "outputs": [
        {
          "output_type": "stream",
          "name": "stdout",
          "text": [
            "b'I\\'ve seen tons of science fiction from the 70s; some horrendously bad, and others thought provoking and truly frightening. Soylent Green fits into the latter category. Yes, at times it\\'s a little campy, and yes, the furniture is good for a giggle or two, but some of the film seems awfully prescient. Here we have a film, 9 years before Blade Runner, that dares to imagine the future as somthing dark, scary, and nihilistic. Both Charlton Heston and Edward G. Robinson fare far better in this than The Ten Commandments, and Robinson\\'s assisted-suicide scene is creepily prescient of Kevorkian and his ilk. Some of the attitudes are dated (can you imagine a filmmaker getting away with the \"women as furniture\" concept in our oh-so-politically-correct-90s?), but it\\'s rare to find a film from the Me Decade that actually can make you think. This is one I\\'d love to see on the big screen, because even in a widescreen presentation, I don\\'t think the overall scope of this film would receive its due. Check it out.'\n",
            "1\n",
            "b'First than anything, I\\'m not going to praise I\\xc3\\xb1arritu\\'s short film, even I\\'m Mexican and proud of his success in mainstream Hollywood.<br /><br />In another hand, I see most of the reviews focuses on their favorite (and not so) short films; but we are forgetting that there is a subtle bottom line that circles the whole compilation, and maybe it will not be so pleasant for American people. (Even if that was not the main purpose of the producers) <br /><br />What i\\'m talking about is that most of the short films does not show the suffering that WASP people went through because the terrorist attack on September 11th, but the suffering of the Other people.<br /><br />Do you need proofs about what i\\'m saying? Look, in the Bosnia short film, the message is: \"You cry because of the people who died in the Towers, but we (The Others = East Europeans) are crying long ago for the crimes committed against our women and nobody pay attention to us like the whole world has done to you\".<br /><br />Even though the Burkina Fasso story is more in comedy, there is a the same thought: \"You are angry because Osama Bin Laden punched you in an evil way, but we (The Others = Africans) should be more angry, because our people is dying of hunger, poverty and AIDS long time ago, and nobody pay attention to us like the whole world has done to you\".<br /><br />Look now at the Sean Penn short: The fall of the Twin Towers makes happy to a lonely (and alienated) man. So the message is that the Power and the Greed (symbolized by the Towers) must fall for letting the people see the sun rise and the flowers blossom? It is remarkable that this terrible bottom line has been proposed by an American. There is so much irony in this short film that it is close to be subversive.<br /><br />Well, the Ken Loach (very know because his anti-capitalism ideology) is much more clearly and shameless in going straight to the point: \"You are angry because your country has been attacked by evil forces, but we (The Others = Latin Americans) suffered at a similar date something worst, and nobody remembers our grief as the whole world has done to you\".<br /><br />It is like if the creative of this project wanted to say to Americans: \"You see now, America? You are not the only that have become victim of the world violence, you are not alone in your pain and by the way, we (the Others = the Non Americans) have been suffering a lot more than you from long time ago; so, we are in solidarity with you in your pain... and by the way, we are sorry because you have had some taste of your own medicine\" Only the Mexican and the French short films showed some compassion and sympathy for American people; the others are like a slap on the face for the American State, that is not equal to American People.'\n",
            "1\n",
            "b'Blood Castle (aka Scream of the Demon Lover, Altar of Blood, Ivanna--the best, but least exploitation cinema-sounding title, and so on) is a very traditional Gothic Romance film. That means that it has big, creepy castles, a headstrong young woman, a mysterious older man, hints of horror and the supernatural, and romance elements in the contemporary sense of that genre term. It also means that it is very deliberately paced, and that the film will work best for horror mavens who are big fans of understatement. If you love films like Robert Wise\\'s The Haunting (1963), but you also have a taste for late 1960s/early 1970s Spanish and Italian horror, you may love Blood Castle, as well.<br /><br />Baron Janos Dalmar (Carlos Quiney) lives in a large castle on the outskirts of a traditional, unspecified European village. The locals fear him because legend has it that whenever he beds a woman, she soon after ends up dead--the consensus is that he sets his ferocious dogs on them. This is quite a problem because the Baron has a very healthy appetite for women. At the beginning of the film, yet another woman has turned up dead and mutilated.<br /><br />Meanwhile, Dr. Ivanna Rakowsky (Erna Sch\\xc3\\xbcrer) has appeared in the center of the village, asking to be taken to Baron Dalmar\\'s castle. She\\'s an out-of-towner who has been hired by the Baron for her expertise in chemistry. Of course, no one wants to go near the castle. Finally, Ivanna finds a shady individual (who becomes even shadier) to take her. Once there, an odd woman who lives in the castle, Olga (Cristiana Galloni), rejects Ivanna and says that she shouldn\\'t be there since she\\'s a woman. Baron Dalmar vacillates over whether she should stay. She ends up staying, but somewhat reluctantly. The Baron has hired her to try to reverse the effects of severe burns, which the Baron\\'s brother, Igor, is suffering from.<br /><br />Unfortunately, the Baron\\'s brother appears to be just a lump of decomposing flesh in a vat of bizarre, blackish liquid. And furthermore, Ivanna is having bizarre, hallucinatory dreams. Just what is going on at the castle? Is the Baron responsible for the crimes? Is he insane? <br /><br />I wanted to like Blood Castle more than I did. As I mentioned, the film is very deliberate in its pacing, and most of it is very understated. I can go either way on material like that. I don\\'t care for The Haunting (yes, I\\'m in a very small minority there), but I\\'m a big fan of 1960s and 1970s European horror. One of my favorite directors is Mario Bava. I also love Dario Argento\\'s work from that period. But occasionally, Blood Castle moved a bit too slow for me at times. There are large chunks that amount to scenes of not very exciting talking alternated with scenes of Ivanna slowly walking the corridors of the castle.<br /><br />But the atmosphere of the film is decent. Director Jos\\xc3\\xa9 Luis Merino managed more than passable sets and locations, and they\\'re shot fairly well by Emanuele Di Cola. However, Blood Castle feels relatively low budget, and this is a Roger Corman-produced film, after all (which usually means a low-budget, though often surprisingly high quality \"quickie\"). So while there is a hint of the lushness of Bava\\'s colors and complex set decoration, everything is much more minimalist. Of course, it doesn\\'t help that the Retromedia print I watched looks like a 30-year old photograph that\\'s been left out in the sun too long. It appears \"washed out\", with compromised contrast.<br /><br />Still, Merino and Di Cola occasionally set up fantastic visuals. For example, a scene of Ivanna walking in a darkened hallway that\\'s shot from an exaggerated angle, and where an important plot element is revealed through shadows on a wall only. There are also a couple Ingmar Bergmanesque shots, where actors are exquisitely blocked to imply complex relationships, besides just being visually attractive and pulling your eye deep into the frame.<br /><br />The performances are fairly good, and the women--especially Sch\\xc3\\xbcrer--are very attractive. Merino exploits this fact by incorporating a decent amount of nudity. Sch\\xc3\\xbcrer went on to do a number of films that were as much soft corn porn as they were other genres, with English titles such as Sex Life in a Woman\\'s Prison (1974), Naked and Lustful (1974), Strip Nude for Your Killer (1975) and Erotic Exploits of a Sexy Seducer (1977). Blood Castle is much tamer, but in addition to the nudity, there are still mild scenes suggesting rape and bondage, and of course the scenes mixing sex and death.<br /><br />The primary attraction here, though, is probably the story, which is much a slow-burning romance as anything else. The horror elements, the mystery elements, and a somewhat unexpected twist near the end are bonuses, but in the end, Blood Castle is a love story, about a couple overcoming various difficulties and antagonisms (often with physical threats or harms) to be together.'\n",
            "1\n",
            "b\"I was talked into watching this movie by a friend who blubbered on about what a cute story this was.<br /><br />Yuck.<br /><br />I want my two hours back, as I could have done SO many more productive things with my time...like, for instance, twiddling my thumbs. I see nothing redeeming about this film at all, save for the eye-candy aspect of it...<br /><br />3/10 (and that's being generous)\"\n",
            "0\n",
            "b\"Michelle Rodriguez is the defining actress who could be the charging force for other actresses to look out for. She has the audacity to place herself in a rarely seen tough-girl role very early in her career (and pull it off), which is a feat that should be recognized. Although her later films pigeonhole her to that same role, this film was made for her ruggedness.<br /><br />Her character is a romanticized student/fighter/lover, struggling to overcome her disenchanted existence in the projects, which is a little overdone in film...but not by a girl. That aspect of this film isn't very original, but the story goes in depth when the heated relationships that this girl has to deal with come to a boil and her primal rage takes over.<br /><br />I haven't seen an actress take such an aggressive stance in movie-making yet, and I'm glad that she's getting that original twist out there in Hollywood. This film got a 7 from me because of the average story of ghetto youth, but it has such a great actress portraying a rarely-seen role in a minimal budget movie. Great work.\"\n",
            "1\n"
          ]
        }
      ],
      "source": [
        "# It's important to take a look at your raw data to ensure your normalization\n",
        "# and tokenization will work as expected. We can do that by taking a few\n",
        "# examples from the training set and looking at them.\n",
        "# This is one of the places where eager execution shines:\n",
        "# we can just evaluate these tensors using .numpy()\n",
        "# instead of needing to evaluate them in a Session/Graph context.\n",
        "for text_batch, label_batch in raw_train_ds.take(1):\n",
        "    for i in range(5):\n",
        "        print(text_batch.numpy()[i])\n",
        "        print(label_batch.numpy()[i])"
      ]
    },
    {
      "cell_type": "markdown",
      "metadata": {
        "id": "EE1dnvRFsbkh"
      },
      "source": [
        "## Prepare the data\n",
        "\n",
        "In particular, we remove `<br />` tags."
      ]
    },
    {
      "cell_type": "code",
      "execution_count": 13,
      "metadata": {
        "id": "HKif_7YNsbkh"
      },
      "outputs": [],
      "source": [
        "import string\n",
        "import re\n",
        "\n",
        "\n",
        "# Having looked at our data above, we see that the raw text contains HTML break\n",
        "# tags of the form '<br />'. These tags will not be removed by the default\n",
        "# standardizer (which doesn't strip HTML). Because of this, we will need to\n",
        "# create a custom standardization function.\n",
        "def custom_standardization(input_data):\n",
        "    lowercase = tf.strings.lower(input_data)\n",
        "    stripped_html = tf.strings.regex_replace(lowercase, \"<br />\", \" \")\n",
        "    return tf.strings.regex_replace(\n",
        "        stripped_html, f\"[{re.escape(string.punctuation)}]\", \"\"\n",
        "    )\n",
        "\n",
        "\n",
        "# Model constants.\n",
        "max_features = 20000\n",
        "embedding_dim = 128\n",
        "sequence_length = 500\n",
        "\n",
        "# Now that we have our custom standardization, we can instantiate our text\n",
        "# vectorization layer. We are using this layer to normalize, split, and map\n",
        "# strings to integers, so we set our 'output_mode' to 'int'.\n",
        "# Note that we're using the default split function,\n",
        "# and the custom standardization defined above.\n",
        "# We also set an explicit maximum sequence length, since the CNNs later in our\n",
        "# model won't support ragged sequences.\n",
        "vectorize_layer = keras.layers.TextVectorization(\n",
        "    standardize=custom_standardization,\n",
        "    max_tokens=max_features,\n",
        "    output_mode=\"int\",\n",
        "    output_sequence_length=sequence_length,\n",
        ")\n",
        "\n",
        "# Now that the vectorize_layer has been created, call `adapt` on a text-only\n",
        "# dataset to create the vocabulary. You don't have to batch, but for very large\n",
        "# datasets this means you're not keeping spare copies of the dataset in memory.\n",
        "\n",
        "# Let's make a text-only dataset (no labels):\n",
        "text_ds = raw_train_ds.map(lambda x, y: x)\n",
        "# Let's call `adapt`:\n",
        "vectorize_layer.adapt(text_ds)"
      ]
    },
    {
      "cell_type": "markdown",
      "metadata": {
        "id": "ljd3rqKssbkh"
      },
      "source": [
        "## Two options to vectorize the data\n",
        "\n",
        "There are 2 ways we can use our text vectorization layer:\n",
        "\n",
        "**Option 1: Make it part of the model**, so as to obtain a model that processes raw\n",
        " strings, like this:"
      ]
    },
    {
      "cell_type": "markdown",
      "metadata": {
        "id": "qqqgkKLnsbkh"
      },
      "source": [
        "```python\n",
        "text_input = keras.Input(shape=(1,), dtype=tf.string, name='text')\n",
        "x = vectorize_layer(text_input)\n",
        "x = layers.Embedding(max_features + 1, embedding_dim)(x)\n",
        "...\n",
        "```\n",
        "\n",
        "**Option 2: Apply it to the text dataset** to obtain a dataset of word indices, then\n",
        " feed it into a model that expects integer sequences as inputs.\n",
        "\n",
        "An important difference between the two is that option 2 enables you to do\n",
        "**asynchronous CPU processing and buffering** of your data when training on GPU.\n",
        "So if you're training the model on GPU, you probably want to go with this option to get\n",
        " the best performance. This is what we will do below.\n",
        "\n",
        "If we were to export our model to production, we'd ship a model that accepts raw\n",
        "strings as input, like in the code snippet for option 1 above. This can be done after\n",
        " training. We do this in the last section.\n"
      ]
    },
    {
      "cell_type": "code",
      "execution_count": 14,
      "metadata": {
        "id": "6KxxSTK_sbkh"
      },
      "outputs": [],
      "source": [
        "\n",
        "def vectorize_text(text, label):\n",
        "    text = tf.expand_dims(text, -1)\n",
        "    return vectorize_layer(text), label\n",
        "\n",
        "\n",
        "# Vectorize the data.\n",
        "train_ds = raw_train_ds.map(vectorize_text)\n",
        "val_ds = raw_val_ds.map(vectorize_text)\n",
        "test_ds = raw_test_ds.map(vectorize_text)\n",
        "\n",
        "# Do async prefetching / buffering of the data for best performance on GPU.\n",
        "train_ds = train_ds.cache().prefetch(buffer_size=10)\n",
        "val_ds = val_ds.cache().prefetch(buffer_size=10)\n",
        "test_ds = test_ds.cache().prefetch(buffer_size=10)"
      ]
    },
    {
      "cell_type": "markdown",
      "metadata": {
        "id": "_WE7Y2issbkh"
      },
      "source": [
        "## Build a model\n",
        "\n",
        "We choose a simple 1D convnet starting with an `Embedding` layer."
      ]
    },
    {
      "cell_type": "code",
      "execution_count": 15,
      "metadata": {
        "id": "PKVOd2tesbki"
      },
      "outputs": [],
      "source": [
        "# A integer input for vocab indices.\n",
        "inputs = keras.Input(shape=(None,), dtype=\"int64\")\n",
        "\n",
        "# Next, we add a layer to map those vocab indices into a space of dimensionality\n",
        "# 'embedding_dim'.\n",
        "x = layers.Embedding(max_features, embedding_dim)(inputs)\n",
        "x = layers.Dropout(0.5)(x)\n",
        "\n",
        "# Conv1D + global max pooling\n",
        "x = layers.Conv1D(128, 7, padding=\"valid\", activation=\"relu\", strides=3)(x)\n",
        "x = layers.Conv1D(128, 7, padding=\"valid\", activation=\"relu\", strides=3)(x)\n",
        "x = layers.GlobalMaxPooling1D()(x)\n",
        "\n",
        "# We add a vanilla hidden layer:\n",
        "x = layers.Dense(128, activation=\"relu\")(x)\n",
        "x = layers.Dropout(0.5)(x)\n",
        "\n",
        "# We project onto a single unit output layer, and squash it with a sigmoid:\n",
        "predictions = layers.Dense(1, activation=\"sigmoid\", name=\"predictions\")(x)\n",
        "\n",
        "model = keras.Model(inputs, predictions)\n",
        "\n",
        "# Compile the model with binary crossentropy loss and an adam optimizer.\n",
        "model.compile(loss=\"binary_crossentropy\", optimizer=\"adam\", metrics=[\"accuracy\"])"
      ]
    },
    {
      "cell_type": "markdown",
      "metadata": {
        "id": "p9U_tT7Bsbki"
      },
      "source": [
        "## Train the model"
      ]
    },
    {
      "cell_type": "code",
      "execution_count": 16,
      "metadata": {
        "id": "iHEKEgGssbki",
        "colab": {
          "base_uri": "https://localhost:8080/"
        },
        "outputId": "9477485f-ae08-4998-ccb2-bbf3c16fb7b6"
      },
      "outputs": [
        {
          "output_type": "stream",
          "name": "stdout",
          "text": [
            "Epoch 1/3\n",
            "\u001b[1m625/625\u001b[0m \u001b[32m━━━━━━━━━━━━━━━━━━━━\u001b[0m\u001b[37m\u001b[0m \u001b[1m109s\u001b[0m 170ms/step - accuracy: 0.5999 - loss: 0.6135 - val_accuracy: 0.8626 - val_loss: 0.3178\n",
            "Epoch 2/3\n",
            "\u001b[1m625/625\u001b[0m \u001b[32m━━━━━━━━━━━━━━━━━━━━\u001b[0m\u001b[37m\u001b[0m \u001b[1m138s\u001b[0m 164ms/step - accuracy: 0.8859 - loss: 0.2833 - val_accuracy: 0.8752 - val_loss: 0.3047\n",
            "Epoch 3/3\n",
            "\u001b[1m625/625\u001b[0m \u001b[32m━━━━━━━━━━━━━━━━━━━━\u001b[0m\u001b[37m\u001b[0m \u001b[1m103s\u001b[0m 165ms/step - accuracy: 0.9496 - loss: 0.1425 - val_accuracy: 0.8518 - val_loss: 0.4212\n"
          ]
        },
        {
          "output_type": "execute_result",
          "data": {
            "text/plain": [
              "<keras.src.callbacks.history.History at 0x79a5f17a0310>"
            ]
          },
          "metadata": {},
          "execution_count": 16
        }
      ],
      "source": [
        "epochs = 3\n",
        "\n",
        "# Fit the model using the train and test datasets.\n",
        "model.fit(train_ds, validation_data=val_ds, epochs=epochs)"
      ]
    },
    {
      "cell_type": "markdown",
      "metadata": {
        "id": "WYdEu-iZsbki"
      },
      "source": [
        "## Evaluate the model on the test set"
      ]
    },
    {
      "cell_type": "code",
      "execution_count": 17,
      "metadata": {
        "id": "YZdQi1RLsbki",
        "colab": {
          "base_uri": "https://localhost:8080/"
        },
        "outputId": "a09c5515-9cdd-4d10-89a9-65a931dc4cb7"
      },
      "outputs": [
        {
          "output_type": "stream",
          "name": "stdout",
          "text": [
            "\u001b[1m782/782\u001b[0m \u001b[32m━━━━━━━━━━━━━━━━━━━━\u001b[0m\u001b[37m\u001b[0m \u001b[1m33s\u001b[0m 42ms/step - accuracy: 0.8441 - loss: 0.4204\n"
          ]
        },
        {
          "output_type": "execute_result",
          "data": {
            "text/plain": [
              "[0.42257800698280334, 0.8451600074768066]"
            ]
          },
          "metadata": {},
          "execution_count": 17
        }
      ],
      "source": [
        "model.evaluate(test_ds)"
      ]
    },
    {
      "cell_type": "markdown",
      "metadata": {
        "id": "iPU_zBitsbki"
      },
      "source": [
        "## Make an end-to-end model\n",
        "\n",
        "If you want to obtain a model capable of processing raw strings, you can simply\n",
        "create a new model (using the weights we just trained):"
      ]
    },
    {
      "cell_type": "code",
      "execution_count": 18,
      "metadata": {
        "id": "7Hbhf6Qzsbki",
        "colab": {
          "base_uri": "https://localhost:8080/"
        },
        "outputId": "6739efe2-bc6d-4078-ccb2-2d0795b8641d"
      },
      "outputs": [
        {
          "output_type": "stream",
          "name": "stdout",
          "text": [
            "\u001b[1m782/782\u001b[0m \u001b[32m━━━━━━━━━━━━━━━━━━━━\u001b[0m\u001b[37m\u001b[0m \u001b[1m31s\u001b[0m 38ms/step - accuracy: 0.8441 - loss: 0.0000e+00\n"
          ]
        },
        {
          "output_type": "execute_result",
          "data": {
            "text/plain": [
              "[0.0, 0.0, 0.8451600074768066, 0.8451600074768066]"
            ]
          },
          "metadata": {},
          "execution_count": 18
        }
      ],
      "source": [
        "# A string input\n",
        "inputs = keras.Input(shape=(1,), dtype=\"string\")\n",
        "# Turn strings into vocab indices\n",
        "indices = vectorize_layer(inputs)\n",
        "# Turn vocab indices into predictions\n",
        "outputs = model(indices)\n",
        "\n",
        "# Our end to end model\n",
        "end_to_end_model = keras.Model(inputs, outputs)\n",
        "end_to_end_model.compile(\n",
        "    loss=\"binary_crossentropy\", optimizer=\"adam\", metrics=[\"accuracy\"]\n",
        ")\n",
        "\n",
        "# Test it with `raw_test_ds`, which yields raw strings\n",
        "end_to_end_model.evaluate(raw_test_ds)"
      ]
    }
  ]
}