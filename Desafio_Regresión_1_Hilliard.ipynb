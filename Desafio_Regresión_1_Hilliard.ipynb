{
  "nbformat": 4,
  "nbformat_minor": 0,
  "metadata": {
    "colab": {
      "provenance": [],
      "include_colab_link": true
    },
    "kernelspec": {
      "name": "python3",
      "display_name": "Python 3"
    },
    "language_info": {
      "name": "python"
    }
  },
  "cells": [
    {
      "cell_type": "markdown",
      "metadata": {
        "id": "view-in-github",
        "colab_type": "text"
      },
      "source": [
        "<a href=\"https://colab.research.google.com/github/nh0875/Desafios-Procesamiento-del-Habla-974/blob/main/Desafio_Regresi%C3%B3n_1_Hilliard.ipynb\" target=\"_parent\"><img src=\"https://colab.research.google.com/assets/colab-badge.svg\" alt=\"Open In Colab\"/></a>"
      ]
    },
    {
      "cell_type": "markdown",
      "source": [
        "# INDICACIONES\n",
        "\n",
        "1) Cada uno debe completar las consignas indicadas en este notebook.\n",
        "\n",
        "2) Deben postear como solución enlace a su notebook colab público y también debe estar en su repositorio GitHub.\n",
        "\n",
        "3) No pueden repetir el mismo dataset que ya haya definido un compañero.\n",
        "\n",
        "4) copias explícitas de secciones enteras del trabajo de otro será penalizado disminuyendo su puntuación.\n",
        "\n",
        "5) No se olvide de añadir las fuentes de inspiración de su código (blogs, prompts de chatgpt o similar).\n",
        "\n",
        "6) Además de todo el código que agregue, es importante que sepa interpretarlo. Agregue texto explicativo en cada sección. Esto le ayudará al momento del coloquio / parcial\n",
        "\n",
        "7) Revise las fecha límite de entrega de este trabajo"
      ],
      "metadata": {
        "id": "BSeucmV-KLmJ"
      }
    },
    {
      "cell_type": "markdown",
      "source": [
        "# Dataset\n",
        "\n",
        "Genere un dataset sintético con al menos 4 variables y una variable continua para usarlo luego en regresión.\n",
        "\n"
      ],
      "metadata": {
        "id": "PA_K-G-ztGNZ"
      }
    },
    {
      "cell_type": "code",
      "source": [
        "import pandas as pd\n",
        "import numpy as np\n",
        "import pandas as pd\n",
        "import random\n",
        "import matplotlib.pyplot as plt\n",
        "from sklearn.preprocessing import OneHotEncoder, StandardScaler\n",
        "from sklearn.model_selection import train_test_split\n",
        "from sklearn.linear_model import LinearRegression, Lasso\n",
        "from sklearn.metrics import mean_squared_error, r2_score, mean_absolute_error\n",
        "from datetime import datetime, timedelta\n",
        "\n",
        "# Generar nombres de empresas\n",
        "nombres_empresas=[\n",
        "    \"Empresa Alfa\", \"Empresa Beta\", \"Empresa Gamma\", \"Empresa Delta\", \"Empresa Epsilon\",\n",
        "    \"Empresa Zeta\", \"Empresa Omega\", \"Empresa Sigma\", \"Empresa Theta\", \"Empresa Kappa\"\n",
        "]\n",
        "\n",
        "# Generar dataset sintético\n",
        "random.seed(42)  # Para reproducibilidad\n",
        "data=[]\n",
        "\n",
        "for i in range(1, 101):  # Crear 100 registros\n",
        "    empresa=random.choice(nombres_empresas)\n",
        "    num_factura=f\"FAC-{random.randint(1000, 9999)}\"\n",
        "    fecha_envio=datetime.now() - timedelta(days=random.randint(1, 120))\n",
        "    fecha_envio_str=fecha_envio.strftime('%Y-%m-%d')\n",
        "\n",
        "    # Decidir si la factura está pagada\n",
        "    pagada=random.choice([True, False])\n",
        "    if pagada:\n",
        "        fecha_pago=fecha_envio + timedelta(days=random.randint(1, 30))\n",
        "        fecha_pago_str=fecha_pago.strftime('%Y-%m-%d')\n",
        "        factura_pendiente=\"No\"\n",
        "    else:\n",
        "        fecha_pago_str=None\n",
        "        factura_pendiente=\"Sí\"\n",
        "\n",
        "    total_pago=round(random.uniform(500, 10000), 2)\n",
        "\n",
        "    data.append({\n",
        "        \"Nombre de la Empresa\": empresa,\n",
        "        \"Número de Factura\": num_factura,\n",
        "        \"Fecha Envío de Factura\": fecha_envio_str,\n",
        "        \"Fecha Recibo de Pago\": fecha_pago_str,\n",
        "        \"Total del Pago\": total_pago,\n",
        "        \"Factura Pendiente\": factura_pendiente\n",
        "    })\n",
        "\n",
        "# Convertir a DataFrame\n",
        "df=pd.DataFrame(data)\n",
        "print(df.to_string())"
      ],
      "metadata": {
        "colab": {
          "base_uri": "https://localhost:8080/"
        },
        "id": "TpHAlu4H4eLr",
        "outputId": "d810139e-bbae-4e4f-9974-228c25b64af7"
      },
      "execution_count": null,
      "outputs": [
        {
          "output_type": "stream",
          "name": "stdout",
          "text": [
            "   Nombre de la Empresa Número de Factura Fecha Envío de Factura Fecha Recibo de Pago  Total del Pago Factura Pendiente\n",
            "0          Empresa Beta          FAC-1409             2024-08-17                 None         2826.47                Sí\n",
            "1         Empresa Gamma          FAC-2679             2024-08-25           2024-09-13         4508.26                No\n",
            "2          Empresa Alfa          FAC-2535             2024-10-23           2024-11-09         6219.18                No\n",
            "3         Empresa Theta          FAC-4257             2024-08-20                 None         2594.19                Sí\n",
            "4         Empresa Kappa          FAC-5557             2024-08-08           2024-09-02         8155.28                No\n",
            "5         Empresa Omega          FAC-6574             2024-10-15           2024-10-22         9593.52                No\n",
            "6          Empresa Zeta          FAC-2674             2024-11-08                 None         1418.81                Sí\n",
            "7          Empresa Zeta          FAC-5333             2024-08-08           2024-09-01         4864.54                No\n",
            "8          Empresa Beta          FAC-7201             2024-11-09                 None         8379.34                Sí\n",
            "9         Empresa Kappa          FAC-6925             2024-09-07           2024-09-30         1160.77                No\n",
            "10        Empresa Delta          FAC-5741             2024-11-09           2024-12-07         1459.51                No\n",
            "11      Empresa Epsilon          FAC-8428             2024-08-30                 None         2045.21                Sí\n",
            "12         Empresa Zeta          FAC-4432             2024-08-26                 None         7167.29                Sí\n",
            "13         Empresa Beta          FAC-3803             2024-09-12           2024-09-18         4891.47                No\n",
            "14      Empresa Epsilon          FAC-4598             2024-08-24                 None         8507.09                Sí\n",
            "15         Empresa Alfa          FAC-4752             2024-08-06           2024-09-01         3496.80                No\n",
            "16      Empresa Epsilon          FAC-2084             2024-10-23                 None         2519.95                Sí\n",
            "17        Empresa Sigma          FAC-7482             2024-07-29                 None         1857.28                Sí\n",
            "18        Empresa Gamma          FAC-5040             2024-08-16                 None         7596.63                Sí\n",
            "19        Empresa Omega          FAC-7543             2024-10-04           2024-10-09         5340.50                No\n",
            "20         Empresa Beta          FAC-1771             2024-08-01           2024-08-06         6460.74                No\n",
            "21        Empresa Omega          FAC-2040             2024-10-01                 None         6160.94                Sí\n",
            "22        Empresa Sigma          FAC-9669             2024-10-18           2024-11-09         7346.86                No\n",
            "23        Empresa Theta          FAC-5371             2024-08-13                 None         1559.75                Sí\n",
            "24        Empresa Omega          FAC-3591             2024-09-22           2024-10-16         8820.60                No\n",
            "25      Empresa Epsilon          FAC-9201             2024-08-14           2024-08-31         9169.96                No\n",
            "26      Empresa Epsilon          FAC-9317             2024-09-03           2024-09-08         4052.18                No\n",
            "27        Empresa Gamma          FAC-9837             2024-08-12           2024-09-01         3579.48                No\n",
            "28         Empresa Alfa          FAC-2832             2024-07-24                 None         8847.86                Sí\n",
            "29      Empresa Epsilon          FAC-4923             2024-11-12           2024-12-11         5889.89                No\n",
            "30         Empresa Beta          FAC-2403             2024-08-18                 None         8252.22                Sí\n",
            "31        Empresa Theta          FAC-3060             2024-11-03                 None         9495.06                Sí\n",
            "32        Empresa Gamma          FAC-5342             2024-09-13                 None         9661.45                Sí\n",
            "33        Empresa Theta          FAC-4295             2024-08-20                 None         4290.43                Sí\n",
            "34         Empresa Zeta          FAC-8177             2024-07-27                 None         1649.54                Sí\n",
            "35        Empresa Delta          FAC-2049             2024-10-07           2024-10-26         5762.25                No\n",
            "36        Empresa Kappa          FAC-4608             2024-11-19           2024-12-12         6495.48                No\n",
            "37        Empresa Delta          FAC-2104             2024-07-27           2024-08-24         3639.07                No\n",
            "38        Empresa Theta          FAC-4899             2024-10-15                 None         2535.25                Sí\n",
            "39        Empresa Gamma          FAC-8744             2024-10-19                 None         8171.22                Sí\n",
            "40        Empresa Delta          FAC-2545             2024-11-07                 None         3865.83                Sí\n",
            "41        Empresa Omega          FAC-8651             2024-08-01           2024-08-23         6707.83                No\n",
            "42         Empresa Beta          FAC-1993             2024-09-29                 None         8105.63                Sí\n",
            "43         Empresa Beta          FAC-5073             2024-10-26           2024-11-13         4761.83                No\n",
            "44        Empresa Omega          FAC-4006             2024-10-15                 None         2873.16                Sí\n",
            "45         Empresa Beta          FAC-8260             2024-08-08           2024-08-10         6695.38                No\n",
            "46        Empresa Theta          FAC-1241             2024-11-08           2024-11-14         4360.93                No\n",
            "47        Empresa Sigma          FAC-4502             2024-08-01                 None         9073.21                Sí\n",
            "48        Empresa Gamma          FAC-7209             2024-11-19                 None         3019.43                Sí\n",
            "49        Empresa Sigma          FAC-5673             2024-09-26                 None         1970.57                Sí\n",
            "50      Empresa Epsilon          FAC-4566             2024-11-12           2024-12-06         3479.25                No\n",
            "51         Empresa Alfa          FAC-8811             2024-09-16           2024-09-18         9627.40                No\n",
            "52         Empresa Beta          FAC-4044             2024-11-11           2024-12-03         8687.28                No\n",
            "53        Empresa Omega          FAC-2964             2024-07-29           2024-08-17         6147.93                No\n",
            "54        Empresa Kappa          FAC-2343             2024-09-27                 None         9379.71                Sí\n",
            "55        Empresa Delta          FAC-6147             2024-10-20                 None         4259.97                Sí\n",
            "56      Empresa Epsilon          FAC-8491             2024-10-10           2024-10-11         4853.71                No\n",
            "57        Empresa Kappa          FAC-2638             2024-11-10           2024-11-27         3019.40                No\n",
            "58         Empresa Zeta          FAC-2127             2024-07-30           2024-08-11         3207.38                No\n",
            "59        Empresa Sigma          FAC-9900             2024-08-21                 None         6310.94                Sí\n",
            "60        Empresa Theta          FAC-1128             2024-08-26                 None         9351.68                Sí\n",
            "61         Empresa Beta          FAC-3200             2024-10-17           2024-11-15         1516.84                No\n",
            "62        Empresa Theta          FAC-3546             2024-10-16                 None         6245.88                Sí\n",
            "63         Empresa Zeta          FAC-4335             2024-08-24                 None         5301.39                Sí\n",
            "64      Empresa Epsilon          FAC-1832             2024-11-08                 None         8378.81                Sí\n",
            "65         Empresa Alfa          FAC-1058             2024-10-08           2024-10-29         9808.08                No\n",
            "66        Empresa Gamma          FAC-8239             2024-09-10                 None         5828.62                Sí\n",
            "67         Empresa Beta          FAC-2232             2024-07-29           2024-08-16          842.27                No\n",
            "68         Empresa Zeta          FAC-3426             2024-09-25           2024-09-27         3428.45                No\n",
            "69         Empresa Alfa          FAC-6862             2024-10-24           2024-11-15         1476.54                No\n",
            "70        Empresa Theta          FAC-7658             2024-09-01           2024-10-01         9333.87                No\n",
            "71        Empresa Gamma          FAC-3900             2024-07-30                 None          735.47                Sí\n",
            "72         Empresa Zeta          FAC-7745             2024-08-09           2024-08-18         2012.38                No\n",
            "73         Empresa Beta          FAC-7267             2024-07-31           2024-08-28         4971.56                No\n",
            "74        Empresa Delta          FAC-8541             2024-10-06                 None         8295.10                Sí\n",
            "75        Empresa Delta          FAC-4652             2024-11-16           2024-11-29         3618.49                No\n",
            "76         Empresa Beta          FAC-5573             2024-10-06                 None         6955.42                Sí\n",
            "77        Empresa Theta          FAC-6425             2024-11-16           2024-12-15         9718.81                No\n",
            "78        Empresa Gamma          FAC-5349             2024-11-15           2024-12-05         4628.36                No\n",
            "79         Empresa Zeta          FAC-8149             2024-09-03           2024-09-16         9045.29                No\n",
            "80        Empresa Delta          FAC-5173             2024-11-14                 None          516.07                Sí\n",
            "81        Empresa Theta          FAC-4228             2024-10-04                 None         1164.75                Sí\n",
            "82         Empresa Zeta          FAC-6143             2024-08-27           2024-09-20         9050.44                No\n",
            "83        Empresa Theta          FAC-6067             2024-08-26                 None         3598.74                Sí\n",
            "84      Empresa Epsilon          FAC-3085             2024-10-26                 None         6816.83                Sí\n",
            "85        Empresa Omega          FAC-3851             2024-09-02                 None         4357.71                Sí\n",
            "86         Empresa Alfa          FAC-5978             2024-10-14           2024-10-28         7964.71                No\n",
            "87        Empresa Kappa          FAC-6279             2024-09-21                 None         4700.52                Sí\n",
            "88        Empresa Delta          FAC-9375             2024-09-20           2024-10-12         1305.56                No\n",
            "89        Empresa Theta          FAC-6491             2024-11-08           2024-11-30         3448.98                No\n",
            "90        Empresa Delta          FAC-3414             2024-11-16           2024-11-24         9847.39                No\n",
            "91        Empresa Kappa          FAC-2193             2024-09-22                 None         8918.30                Sí\n",
            "92        Empresa Kappa          FAC-4185             2024-08-20                 None         5196.58                Sí\n",
            "93        Empresa Delta          FAC-3417             2024-08-28           2024-09-26         7634.16                No\n",
            "94         Empresa Beta          FAC-7965             2024-10-22           2024-11-17         9600.68                No\n",
            "95        Empresa Theta          FAC-8611             2024-11-13           2024-12-13         8559.20                No\n",
            "96        Empresa Sigma          FAC-3184             2024-08-09                 None         6841.99                Sí\n",
            "97        Empresa Theta          FAC-6198             2024-08-15                 None         6320.20                Sí\n",
            "98        Empresa Theta          FAC-7991             2024-08-05                 None         9023.48                Sí\n",
            "99        Empresa Sigma          FAC-8373             2024-10-17           2024-11-13         6557.78                No\n"
          ]
        }
      ]
    },
    {
      "cell_type": "markdown",
      "source": [
        "## Preprocesamiento\n",
        "\n",
        "Indique e implemente el pre-procesamiento necesario previo a entrenar los modelos"
      ],
      "metadata": {
        "id": "JBsmkKcXtaUH"
      }
    },
    {
      "cell_type": "code",
      "source": [
        "# 1. Codificación de variables categóricas\n",
        "# Seleccionamos las columnas categóricas\n",
        "columnas_categoricas=['Nombre de la Empresa', 'Fecha Recibo de Pago']\n",
        "encoder=OneHotEncoder(sparse_output=False)\n",
        "encoded_data=encoder.fit_transform(df[columnas_categoricas])\n",
        "encoded_df=pd.DataFrame(encoded_data, columns=encoder.get_feature_names_out(columnas_categoricas))\n",
        "\n",
        "# 2. Escalado de las variables numéricas\n",
        "# Seleccionamos las columnas numéricas\n",
        "columnas_numericas=['Total del Pago', 'Factura Pendiente']\n",
        "\n",
        "# Convertir a numérico, manejando errores\n",
        "for col in columnas_numericas:\n",
        "    df[col]=pd.to_numeric(df[col], errors='coerce')\n",
        "\n",
        "# Reemplazar valores NaN con 0 (o cualquier otro valor por defecto)\n",
        "df[columnas_numericas]=df[columnas_numericas].fillna(0)\n",
        "\n",
        "# Escalar los datos\n",
        "scaler=StandardScaler()\n",
        "scaled_data=scaler.fit_transform(df[columnas_numericas])\n",
        "scaled_df=pd.DataFrame(scaled_data, columns=[f\"{col}_scaled\" for col in columnas_numericas])\n",
        "\n",
        "# 3. Combinar DataFrames\n",
        "df_preprocessed=pd.concat([encoded_df, scaled_df], axis=1)\n",
        "\n",
        "# 4. Dividir en conjunto de entrenamiento y prueba\n",
        "# Elegimos una variable objetivo (en este caso, \"Total del Pago\")\n",
        "X=df_preprocessed\n",
        "y=df['Total del Pago']\n",
        "X_train, X_test, y_train, y_test=train_test_split(X, y, test_size=0.2, random_state=42)\n",
        "\n",
        "# Asegurar que las columnas sean strings\n",
        "X_train.columns=X_train.columns.astype(str)\n",
        "X_test.columns=X_test.columns.astype(str)\n",
        "\n",
        "# Verificamos las dimensiones del conjunto de datos\n",
        "print(f\"Datos de entrenamiento: {X_train.shape}, {y_train.shape}\")\n",
        "print(f\"Datos de prueba: {X_test.shape}, {y_test.shape}\")\n"
      ],
      "metadata": {
        "id": "1QZfxp7utivZ",
        "colab": {
          "base_uri": "https://localhost:8080/"
        },
        "outputId": "40dbb0ab-7033-443d-8801-28e75339e8c6"
      },
      "execution_count": null,
      "outputs": [
        {
          "output_type": "stream",
          "name": "stdout",
          "text": [
            "Datos de entrenamiento: (80, 59), (80,)\n",
            "Datos de prueba: (20, 59), (20,)\n"
          ]
        }
      ]
    },
    {
      "cell_type": "markdown",
      "source": [
        "## Modelos"
      ],
      "metadata": {
        "id": "lWk1FojvthZ-"
      }
    },
    {
      "cell_type": "markdown",
      "source": [
        "Elija al menos dos modelos de regresión de los vistos en clases.\n",
        "Entrene dichos modelos.\n",
        "Detalle los hiperparámetros elegidos."
      ],
      "metadata": {
        "id": "fcWx12wStpQJ"
      }
    },
    {
      "cell_type": "code",
      "source": [
        "# Modelo Lineal\n",
        "model_linear=LinearRegression()\n",
        "model_linear.fit(X_train,y_train)\n",
        "y_pred_linear=model_linear.predict(X_test)\n",
        "mse_linear=mean_squared_error(y_test,y_pred_linear)\n",
        "r2_linear=r2_score(y_test,y_pred_linear)\n",
        "print(f\"Linear Regression - MSE: {mse_linear:.2f}, R^2: {r2_linear:.2f}\")\n",
        "\n",
        "# Lasso con alpha=0.1\n",
        "model_lasso01=Lasso(alpha=0.1)\n",
        "model_lasso01.fit(X_train,y_train)\n",
        "y_pred_lasso01=model_lasso01.predict(X_test)\n",
        "mse_lasso01=mean_squared_error(y_test,y_pred_lasso01)\n",
        "r2_lasso01=r2_score(y_test,y_pred_lasso01)\n",
        "print(f\"Lasso (alpha=0.1) - MSE: {mse_lasso01:.2f}, R^2: {r2_lasso01:.2f}\")\n",
        "\n",
        "# Lasso con alpha=100\n",
        "model_lasso100=Lasso(alpha=100)\n",
        "model_lasso100.fit(X_train,y_train)\n",
        "y_pred_lasso100=model_lasso100.predict(X_test)\n",
        "mse_lasso100=mean_squared_error(y_test,y_pred_lasso100)\n",
        "r2_lasso100=r2_score(y_test,y_pred_lasso100)\n",
        "print(f\"Lasso (alpha=100) - MSE: {mse_lasso100:.2f}, R^2: {r2_lasso100:.2f}\")\n",
        "\n",
        "# Lasso con alpha=50000000000\n",
        "model_lasso_large=Lasso(alpha=50000000000)\n",
        "model_lasso_large.fit(X_train,y_train)\n",
        "y_pred_lasso_large=model_lasso_large.predict(X_test)\n",
        "mse_lasso_large=mean_squared_error(y_test,y_pred_lasso_large)\n",
        "r2_lasso_large=r2_score(y_test,y_pred_lasso_large)\n",
        "print(f\"Lasso (alpha=50000000000) - MSE: {mse_lasso_large:.2f}, R^2: {r2_lasso_large:.2f}\")"
      ],
      "metadata": {
        "id": "gasE2y2ttpaa",
        "colab": {
          "base_uri": "https://localhost:8080/"
        },
        "outputId": "4b7fb359-8965-4d1c-8ac9-125c2eb3364f"
      },
      "execution_count": null,
      "outputs": [
        {
          "output_type": "stream",
          "name": "stdout",
          "text": [
            "Linear Regression - MSE: 138.76, R^2: 1.00\n",
            "Lasso (alpha=0.1) - MSE: 0.01, R^2: 1.00\n",
            "Lasso (alpha=100) - MSE: 11125.36, R^2: 1.00\n",
            "Lasso (alpha=50000000000) - MSE: 8326032.75, R^2: -0.09\n"
          ]
        }
      ]
    },
    {
      "cell_type": "markdown",
      "source": [],
      "metadata": {
        "id": "x1TAOjxqNQAa"
      }
    },
    {
      "cell_type": "markdown",
      "source": [
        "## Evaluación"
      ],
      "metadata": {
        "id": "Sxmj7GNVt5Q3"
      }
    },
    {
      "cell_type": "markdown",
      "source": [
        "Evalue el desempeño de los modelos indicando las métricas, metodología y conjunto de datos utilizados."
      ],
      "metadata": {
        "id": "rrvjbghzt8CN"
      }
    },
    {
      "cell_type": "markdown",
      "source": [
        "Use MSE para evaluar los errores tambien use la metrica RMSE para evaluar la precisión de las predicciones numéricas, ya que penaliza fuertemente los errores y tambien para complementar MSE. La 3° Metrica que use fue el coeficiente de determinacion (R^2) para evaluar de una forma distinta que tan buenos son los modelos\n",
        "\n",
        "Metodologias usadas, Cross-Validation (Validacion Cruzada)"
      ],
      "metadata": {
        "id": "y8eGXumT8VKK"
      }
    },
    {
      "cell_type": "code",
      "source": [
        "# Evaluación de modelos con MSE y MAE\n",
        "def evaluar_modelo(nombre_modelo, y_test, y_pred):\n",
        "    mse=mean_squared_error(y_test, y_pred)\n",
        "    mae=mean_absolute_error(y_test, y_pred)\n",
        "    print(f\"{nombre_modelo} - MSE: {mse:.2f}, MAE: {mae:.2f}\")\n",
        "\n",
        "# Modelo Lineal\n",
        "evaluar_modelo(\"Linear Regression\", y_test, y_pred_linear)\n",
        "\n",
        "# Lasso con alpha=0.1\n",
        "evaluar_modelo(\"Lasso (alpha=0.1)\", y_test, y_pred_lasso01)\n",
        "\n",
        "# Lasso con alpha=100\n",
        "evaluar_modelo(\"Lasso (alpha=100)\", y_test, y_pred_lasso100)\n",
        "\n",
        "# Lasso con alpha=50000000000\n",
        "evaluar_modelo(\"Lasso (alpha=50000000000)\", y_test, y_pred_lasso_large)\n"
      ],
      "metadata": {
        "id": "SCO-kgyct6q8",
        "colab": {
          "base_uri": "https://localhost:8080/"
        },
        "outputId": "17215458-7512-4f16-cd8b-c3203118444c"
      },
      "execution_count": null,
      "outputs": [
        {
          "output_type": "stream",
          "name": "stdout",
          "text": [
            "Linear Regression - MSE: 138.76, MAE: 4.81\n",
            "Lasso (alpha=0.1) - MSE: 0.01, MAE: 0.09\n",
            "Lasso (alpha=100) - MSE: 11125.36, MAE: 94.62\n",
            "Lasso (alpha=50000000000) - MSE: 8326032.75, MAE: 2588.57\n"
          ]
        }
      ]
    },
    {
      "cell_type": "markdown",
      "source": [
        "Es curioso como el modelo no varia cuando alpha crece significativamente pero si cuando disminuye a valores cercanos al 0"
      ],
      "metadata": {
        "id": "uWkNsXgOPnGr"
      }
    },
    {
      "cell_type": "markdown",
      "source": [
        "\n",
        "## Ejercicio de hiper parámetro tunning.\n",
        "\n",
        "Modificar uno de los modelos para probarlo con diferentes valores para uno de sus hiperparámetros, indicando para cuáles se evidencia subajuste y en cuáles sobreajuste.\n",
        "\n",
        "Grafique la métrica de desempeño vs los valores del hiperarámetro para observar ambas curvas de error durante el entrenamiento y durante el testeo.\n",
        "\n",
        "\n"
      ],
      "metadata": {
        "id": "ec3tJxLJtVFL"
      }
    },
    {
      "cell_type": "markdown",
      "source": [],
      "metadata": {
        "id": "WKoP_C5dunUB"
      }
    },
    {
      "cell_type": "code",
      "source": [
        "# Función para calcular MSE en función de los valores de alpha\n",
        "def calcular_errores_lasso(X_train, y_train, X_test, y_test, alphas):\n",
        "    train_errors=[]\n",
        "    test_errors=[]\n",
        "\n",
        "    for alpha in alphas:\n",
        "        model=Lasso(alpha=alpha)\n",
        "        model.fit(X_train, y_train)\n",
        "\n",
        "        y_train_pred=model.predict(X_train)\n",
        "        y_test_pred=model.predict(X_test)\n",
        "\n",
        "        train_mse=mean_squared_error(y_train, y_train_pred)\n",
        "        test_mse=mean_squared_error(y_test, y_test_pred)\n",
        "\n",
        "        train_errors.append(train_mse)\n",
        "        test_errors.append(test_mse)\n",
        "\n",
        "    return train_errors, test_errors\n",
        "\n",
        "# Función para graficar MSE vs alpha\n",
        "def graficar_errores(alphas, train_errors, test_errors):\n",
        "    plt.figure(figsize=(10, 6))\n",
        "    plt.plot(alphas, train_errors, label='Train MSE', marker='o')\n",
        "    plt.plot(alphas, test_errors, label='Test MSE', marker='o')\n",
        "    plt.xscale('log')\n",
        "    plt.xlabel('Alpha')\n",
        "    plt.ylabel('Mean Squared Error')\n",
        "    plt.title('Curvas de Error vs Alpha (Lasso)')\n",
        "    plt.legend()\n",
        "    plt.grid(True)\n",
        "    plt.show()\n",
        "\n",
        "# Valores de alpha\n",
        "alphas=[0.001, 0.01, 0.1, 1, 10, 100, 500, 1000]\n",
        "\n",
        "# Calcular errores\n",
        "train_errors, test_errors=calcular_errores_lasso(X_train, y_train, X_test, y_test, alphas)\n",
        "\n",
        "# Graficar errores\n",
        "graficar_errores(alphas, train_errors, test_errors)\n"
      ],
      "metadata": {
        "id": "U4ACQYhrunek",
        "colab": {
          "base_uri": "https://localhost:8080/",
          "height": 569
        },
        "outputId": "6925eb99-07ba-41ae-fb59-d74b71f561e9"
      },
      "execution_count": null,
      "outputs": [
        {
          "output_type": "display_data",
          "data": {
            "text/plain": [
              "<Figure size 1000x600 with 1 Axes>"
            ],
            "image/png": "[encoded data removed]"
          },
          "metadata": {}
        }
      ]
    },
    {
      "cell_type": "markdown",
      "source": [
        "Como mencione anteriormente el patron de este modelo esta en que cuando los valores de alpha aumentan, el resultado del modelo tiende a ser igual, el valor ideal de alpha a la hora de evaluar nuestro modelo sera \"1\""
      ],
      "metadata": {
        "id": "Fp55GTRDP5cM"
      }
    },
    {
      "cell_type": "markdown",
      "source": [
        "Fuentes:\n",
        "\n",
        "Gemini prompt= \"Crea un dataset de 1000x6 en python, con una variable continua\"\n",
        "\n",
        "Github=https://github.com/danielperhez/P02_PD_Models\n",
        "\n",
        "Stackoverflow=https://stackoverflow.com/questions/17197492/is-there-a-library-function-for-root-mean-square-error-rmse-in-python\n",
        "\n",
        "Material de estudio, tambien los notebooks del campus\n",
        "\n",
        "Gemini=\"Show me how to make a Cross-Validation\""
      ],
      "metadata": {
        "id": "f_JzGere0OEy"
      }
    }
  ]
}