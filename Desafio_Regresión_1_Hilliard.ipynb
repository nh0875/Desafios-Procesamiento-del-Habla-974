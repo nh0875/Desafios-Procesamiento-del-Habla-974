{
  "nbformat": 4,
  "nbformat_minor": 0,
  "metadata": {
    "colab": {
      "provenance": [],
      "include_colab_link": true
    },
    "kernelspec": {
      "name": "python3",
      "display_name": "Python 3"
    },
    "language_info": {
      "name": "python"
    }
  },
  "cells": [
    {
      "cell_type": "markdown",
      "metadata": {
        "id": "view-in-github",
        "colab_type": "text"
      },
      "source": [
        "<a href=\"https://colab.research.google.com/github/nh0875/Desafios-Procesamiento-del-Habla-974/blob/main/Desafio_Regresi%C3%B3n_1_Hilliard.ipynb\" target=\"_parent\"><img src=\"https://colab.research.google.com/assets/colab-badge.svg\" alt=\"Open In Colab\"/></a>"
      ]
    },
    {
      "cell_type": "markdown",
      "source": [
        "# INDICACIONES\n",
        "\n",
        "1) Cada uno debe completar las consignas indicadas en este notebook.\n",
        "\n",
        "2) Deben postear como solución enlace a su notebook colab público y también debe estar en su repositorio GitHub.\n",
        "\n",
        "3) No pueden repetir el mismo dataset que ya haya definido un compañero.\n",
        "\n",
        "4) copias explícitas de secciones enteras del trabajo de otro será penalizado disminuyendo su puntuación.\n",
        "\n",
        "5) No se olvide de añadir las fuentes de inspiración de su código (blogs, prompts de chatgpt o similar).\n",
        "\n",
        "6) Además de todo el código que agregue, es importante que sepa interpretarlo. Agregue texto explicativo en cada sección. Esto le ayudará al momento del coloquio / parcial\n",
        "\n",
        "7) Revise las fecha límite de entrega de este trabajo"
      ],
      "metadata": {
        "id": "BSeucmV-KLmJ"
      }
    },
    {
      "cell_type": "markdown",
      "source": [
        "# Dataset\n",
        "\n",
        "Genere un dataset sintético con al menos 4 variables y una variable continua para usarlo luego en regresión.\n",
        "\n"
      ],
      "metadata": {
        "id": "PA_K-G-ztGNZ"
      }
    },
    {
      "cell_type": "code",
      "source": [
        "import pandas as pd\n",
        "import numpy as np\n",
        "from sklearn.preprocessing import OneHotEncoder, StandardScaler\n",
        "from sklearn.model_selection import train_test_split\n",
        "from sklearn.linear_model import LinearRegression, Lasso\n",
        "from sklearn.metrics import mean_squared_error, r2_score\n",
        "num_registros = 1000\n",
        "num_columnas = 4\n",
        "columnas = [f'Columna_{i}' for i in range(num_columnas - 1)] + ['Variable_Continua']\n",
        "data = {}\n",
        "for columna in columnas[:-1]:\n",
        "    data[columna] = np.random.choice(['Opción_A', 'Opción_B', 'Opción_C'], size=num_registros)\n",
        "data['Variable_Continua'] = np.random.randn(num_registros)\n",
        "\n",
        "df = pd.DataFrame(data)\n",
        "print(df.head())"
      ],
      "metadata": {
        "colab": {
          "base_uri": "https://localhost:8080/"
        },
        "id": "TpHAlu4H4eLr",
        "outputId": "24e98568-2c34-44e4-f2a7-edb9dd76e4da"
      },
      "execution_count": 90,
      "outputs": [
        {
          "output_type": "stream",
          "name": "stdout",
          "text": [
            "  Columna_0 Columna_1 Columna_2  Variable_Continua\n",
            "0  Opción_B  Opción_C  Opción_B           0.126397\n",
            "1  Opción_B  Opción_C  Opción_B          -0.098057\n",
            "2  Opción_C  Opción_A  Opción_A           1.267514\n",
            "3  Opción_A  Opción_B  Opción_C           1.150174\n",
            "4  Opción_C  Opción_A  Opción_C          -0.527604\n"
          ]
        }
      ]
    },
    {
      "cell_type": "markdown",
      "source": [
        "## Preprocesamiento\n",
        "\n",
        "Indique e implemente el pre-procesamiento necesario previo a entrenar los modelos"
      ],
      "metadata": {
        "id": "JBsmkKcXtaUH"
      }
    },
    {
      "cell_type": "code",
      "source": [
        "# 1. Codificación de variables categóricas\n",
        "encoder = OneHotEncoder(sparse_output=False)  # Actualización del parámetro\n",
        "encoded_data = encoder.fit_transform(df[columnas[:-1]])\n",
        "encoded_df = pd.DataFrame(encoded_data, columns=encoder.get_feature_names_out())\n",
        "\n",
        "# 2. Escalado de la variable continua\n",
        "scaler = StandardScaler()\n",
        "scaled_data = scaler.fit_transform(df[['Variable_Continua']])\n",
        "scaled_df = pd.DataFrame(scaled_data, columns=['Variable_Continua_scaled'])\n",
        "\n",
        "# 3. Combinar DataFrames\n",
        "df_preprocessed = pd.concat([encoded_df, scaled_df], axis=1)\n",
        "\n",
        "# 4. Dividir en conjunto de entrenamiento y prueba\n",
        "X = df_preprocessed\n",
        "y = df['Variable_Continua']\n",
        "X_train, X_test, y_train, y_test = train_test_split(X, y, test_size=0.2, random_state=42)\n",
        "\n",
        "# Asegurar que las columnas sean strings\n",
        "X_train.columns = X_train.columns.astype(str)\n",
        "X_test.columns = X_test.columns.astype(str)\n"
      ],
      "metadata": {
        "id": "1QZfxp7utivZ"
      },
      "execution_count": 92,
      "outputs": []
    },
    {
      "cell_type": "markdown",
      "source": [
        "## Modelos"
      ],
      "metadata": {
        "id": "lWk1FojvthZ-"
      }
    },
    {
      "cell_type": "markdown",
      "source": [
        "Elija al menos dos modelos de regresión de los vistos en clases.\n",
        "Entrene dichos modelos.\n",
        "Detalle los hiperparámetros elegidos."
      ],
      "metadata": {
        "id": "fcWx12wStpQJ"
      }
    },
    {
      "cell_type": "code",
      "source": [
        "# Modelo Lineal\n",
        "model_linear = LinearRegression()\n",
        "model_linear.fit(X_train, y_train)\n",
        "y_pred_linear = model_linear.predict(X_test)\n",
        "\n",
        "# Lasso con alpha=0.1\n",
        "model_lasso01 = Lasso(alpha=0.1)\n",
        "model_lasso01.fit(X_train, y_train)\n",
        "y_pred_lasso01 = model_lasso01.predict(X_test)\n",
        "\n",
        "# Lasso con alpha=100\n",
        "model_lasso03 = Lasso(alpha=100)\n",
        "model_lasso03.fit(X_train, y_train)\n",
        "y_pred_lasso03 = model_lasso03.predict(X_test)\n",
        "\n",
        "# Lasso con alpha=50000000000\n",
        "model_lasso05 = Lasso(alpha=50000000000)\n",
        "model_lasso05.fit(X_train, y_train)\n",
        "y_pred_lasso05 = model_lasso05.predict(X_test)\n"
      ],
      "metadata": {
        "id": "gasE2y2ttpaa"
      },
      "execution_count": 93,
      "outputs": []
    },
    {
      "cell_type": "markdown",
      "source": [],
      "metadata": {
        "id": "x1TAOjxqNQAa"
      }
    },
    {
      "cell_type": "markdown",
      "source": [
        "## Evaluación"
      ],
      "metadata": {
        "id": "Sxmj7GNVt5Q3"
      }
    },
    {
      "cell_type": "markdown",
      "source": [
        "Evalue el desempeño de los modelos indicando las métricas, metodología y conjunto de datos utilizados."
      ],
      "metadata": {
        "id": "rrvjbghzt8CN"
      }
    },
    {
      "cell_type": "markdown",
      "source": [
        "Use MSE para evaluar los errores tambien use la metrica RMSE para evaluar la precisión de las predicciones numéricas, ya que penaliza fuertemente los errores y tambien para complementar MSE. La 3° Metrica que use fue el coeficiente de determinacion (R^2) para evaluar de una forma distinta que tan buenos son los modelos\n",
        "\n",
        "Metodologias usadas, Cross-Validation (Validacion Cruzada)"
      ],
      "metadata": {
        "id": "y8eGXumT8VKK"
      }
    },
    {
      "cell_type": "code",
      "source": [
        "# 6. Evaluación de los modelos\n",
        "def evaluar_modelo(nombre, y_test, y_pred):\n",
        "    rmse = np.sqrt(mean_squared_error(y_test, y_pred))\n",
        "    mse = mean_squared_error(y_test, y_pred)\n",
        "    r2 = r2_score(y_test, y_pred)\n",
        "    print(f'{nombre} - MSE: {mse:.4f}, R2: {r2:.4f}, RMSE: {rmse}')\n",
        "\n",
        "evaluar_modelo('Linear Regression', y_test, y_pred_linear)\n",
        "evaluar_modelo('Lasso (alpha=0.1)', y_test, y_pred_lasso01)\n",
        "evaluar_modelo('Lasso (alpha=100)', y_test, y_pred_lasso03)\n",
        "evaluar_modelo('Lasso (alpha=50000000000)', y_test, y_pred_lasso05)"
      ],
      "metadata": {
        "id": "SCO-kgyct6q8",
        "colab": {
          "base_uri": "https://localhost:8080/"
        },
        "outputId": "ab2a6ce6-fc8e-4cd4-f278-94c3368e5fb5"
      },
      "execution_count": 101,
      "outputs": [
        {
          "output_type": "stream",
          "name": "stdout",
          "text": [
            "Linear Regression - MSE: 0.0000, R2: 1.0000, RMSE: 7.538277666014754e-16\n",
            "Lasso (alpha=0.1) - MSE: 0.0099, R2: 0.9905, RMSE: 0.09934684654805005\n",
            "Lasso (alpha=100) - MSE: 1.0389, R2: -0.0052, RMSE: 1.0192418578409335\n",
            "Lasso (alpha=50000000000) - MSE: 1.0389, R2: -0.0052, RMSE: 1.0192418578409335\n"
          ]
        }
      ]
    },
    {
      "cell_type": "markdown",
      "source": [
        "Es curioso como el modelo no varia cuando alpha crece significativamente pero si cuando disminuye a valores cercanos al 0"
      ],
      "metadata": {
        "id": "uWkNsXgOPnGr"
      }
    },
    {
      "cell_type": "markdown",
      "source": [
        "\n",
        "## Ejercicio de hiper parámetro tunning.\n",
        "\n",
        "Modificar uno de los modelos para probarlo con diferentes valores para uno de sus hiperparámetros, indicando para cuáles se evidencia subajuste y en cuáles sobreajuste.\n",
        "\n",
        "Grafique la métrica de desempeño vs los valores del hiperarámetro para observar ambas curvas de error durante el entrenamiento y durante el testeo.\n",
        "\n",
        "\n"
      ],
      "metadata": {
        "id": "ec3tJxLJtVFL"
      }
    },
    {
      "cell_type": "markdown",
      "source": [],
      "metadata": {
        "id": "WKoP_C5dunUB"
      }
    },
    {
      "cell_type": "code",
      "source": [
        "import matplotlib.pyplot as plt\n",
        "\n",
        "alphas = [0.001, 0.01, 0.1, 1, 10, 100, 500, 1000]\n",
        "train_errors = []\n",
        "test_errors = []\n",
        "#Calculo el MSE para cada alpha de la lista alphas\n",
        "for alpha in alphas:\n",
        "    model = Lasso(alpha=alpha)\n",
        "    model.fit(X_train, y_train)\n",
        "\n",
        "    y_train_pred = model.predict(X_train)\n",
        "    y_test_pred = model.predict(X_test)\n",
        "\n",
        "    train_mse = mean_squared_error(y_train, y_train_pred)\n",
        "    test_mse = mean_squared_error(y_test, y_test_pred)\n",
        "\n",
        "    train_errors.append(train_mse)\n",
        "    test_errors.append(test_mse)\n",
        "\n",
        "# Graficar MSE vs alpha\n",
        "plt.figure(figsize=(10, 6))\n",
        "plt.plot(alphas, train_errors, label='Train MSE', marker='o')\n",
        "plt.plot(alphas, test_errors, label='Test MSE', marker='o')\n",
        "plt.xscale('log')\n",
        "plt.xlabel('Alpha')\n",
        "plt.ylabel('Mean Squared Error')\n",
        "plt.title('Curvas de Error vs Alpha (Lasso)')\n",
        "plt.legend()\n",
        "plt.show()\n"
      ],
      "metadata": {
        "id": "U4ACQYhrunek",
        "colab": {
          "base_uri": "https://localhost:8080/",
          "height": 509
        },
        "outputId": "d8152871-87dd-4252-d9b4-b852f99bf454"
      },
      "execution_count": 102,
      "outputs": [
        {
          "output_type": "display_data",
          "data": {
            "text/plain": [
              "<Figure size 1000x600 with 1 Axes>"
            ],
            "image/png": "[encoded data removed]"
          },
          "metadata": {}
        }
      ]
    },
    {
      "cell_type": "markdown",
      "source": [
        "Como mencione anteriormente el patron de este modelo esta en que cuando los valores de alpha aumentan, el resultado del modelo tiende a ser igual, el valor ideal de alpha a la hora de evaluar nuestro modelo sera \"1\""
      ],
      "metadata": {
        "id": "Fp55GTRDP5cM"
      }
    },
    {
      "cell_type": "markdown",
      "source": [
        "Fuentes:\n",
        "\n",
        "Gemini prompt= \"Crea un dataset de 1000x6 en python, con una variable continua\"\n",
        "\n",
        "Github=https://github.com/danielperhez/P02_PD_Models\n",
        "\n",
        "Stackoverflow=https://stackoverflow.com/questions/17197492/is-there-a-library-function-for-root-mean-square-error-rmse-in-python\n",
        "\n",
        "Material de estudio, tambien los notebooks del campus\n",
        "\n",
        "Gemini=\"Show me how to make a Cross-Validation\""
      ],
      "metadata": {
        "id": "f_JzGere0OEy"
      }
    }
  ]
}